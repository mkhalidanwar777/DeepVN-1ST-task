{
 "cells": [
  {
   "cell_type": "markdown",
   "id": "e477aaca-1745-4aa6-a692-531d99118760",
   "metadata": {},
   "source": [
    "#  Python Lists "
   ]
  },
  {
   "cell_type": "markdown",
   "id": "3771f622-5d22-4f38-bfd9-3e6eedfd6106",
   "metadata": {},
   "source": [
    "## 1. List Reverser \n",
    "Reverse a list without using [::-1] or reverse()"
   ]
  },
  {
   "cell_type": "code",
   "execution_count": 4,
   "id": "899976ca-adf2-4325-9b15-c1dad81a8e3a",
   "metadata": {},
   "outputs": [
    {
     "name": "stdout",
     "output_type": "stream",
     "text": [
      "[5, 4, 3, 2, 1]\n"
     ]
    }
   ],
   "source": [
    "list1=[1,2,3,4,5]\n",
    "list2=[]\n",
    "for i in list1:\n",
    "    reverse=[list1[-i]]\n",
    "    list2.extend(reverse)\n",
    "print(list2)"
   ]
  },
  {
   "cell_type": "markdown",
   "id": "15b899de-cab9-401a-8b36-778b659d9dc0",
   "metadata": {},
   "source": [
    "## 2. Duplicate Remover \n",
    "Remove all duplicate elements from a list. "
   ]
  },
  {
   "cell_type": "code",
   "execution_count": 1,
   "id": "d9de4b01-b389-4588-aa5e-dadf6ec1bf48",
   "metadata": {},
   "outputs": [
    {
     "name": "stdout",
     "output_type": "stream",
     "text": [
      "Before List : [1, 2, 2, 4, 5, 2, 1]\n",
      "After Remove all duplicate elements from a list : [1, 2, 4, 5]\n"
     ]
    }
   ],
   "source": [
    "L1=[1,2,2,4,5,2,1]\n",
    "\n",
    "l=[]\n",
    "\n",
    "for i in L1:\n",
    "    if i not in l:\n",
    "        l.append(i)\n",
    "print(f\"Before List : {L1}\")\n",
    "print(f\"After Remove all duplicate elements from a list : {l}\")"
   ]
  },
  {
   "cell_type": "markdown",
   "id": "1c21a226-35bd-4d8b-aa5e-779640efb161",
   "metadata": {},
   "source": [
    "## 3. Second Largest Element \n",
    "Find the second largest number in a list. "
   ]
  },
  {
   "cell_type": "code",
   "execution_count": 2,
   "id": "d07fee35-01b9-42ec-be66-554119abf2d8",
   "metadata": {},
   "outputs": [
    {
     "name": "stdout",
     "output_type": "stream",
     "text": [
      "455\n"
     ]
    }
   ],
   "source": [
    "L1 =[12,234,54,12,23,445,665,23,455]\n",
    "\n",
    "L1.sort()\n",
    "\n",
    "print(L1[-2])"
   ]
  },
  {
   "cell_type": "markdown",
   "id": "a8461d09-6b19-494b-a33b-ea78f34b96af",
   "metadata": {},
   "source": [
    "## 4. List Element Frequency \n",
    "Print the frequency of each element in the list. "
   ]
  },
  {
   "cell_type": "code",
   "execution_count": 3,
   "id": "14ff1238-9559-4112-b6fe-7625a2d76768",
   "metadata": {},
   "outputs": [
    {
     "name": "stdout",
     "output_type": "stream",
     "text": [
      "{2, 3, 5, 6, 7}\n",
      "Element frequencies:\n",
      "2: 3\n",
      "3: 2\n",
      "5: 2\n",
      "6: 1\n",
      "7: 1\n"
     ]
    }
   ],
   "source": [
    "items = [2, 3, 2, 5, 3, 6, 2, 5, 7]\n",
    "\n",
    "unique_items = set(items)\n",
    "print(unique_items)\n",
    "\n",
    "print(\"Element frequencies:\")\n",
    "for i in unique_items:\n",
    "    print(f\"{i}: {items.count(i)}\")\n"
   ]
  },
  {
   "cell_type": "markdown",
   "id": "2f179abb-81f9-4f67-aaaf-9f226caef669",
   "metadata": {},
   "source": [
    "## 5. Merge and Sort Lists \n",
    "Merge two lists and sort the result without using sort()."
   ]
  },
  {
   "cell_type": "code",
   "execution_count": null,
   "id": "902d8bab-b26c-4539-bb70-1b38bd3bbe4d",
   "metadata": {},
   "outputs": [],
   "source": []
  }
 ],
 "metadata": {
  "kernelspec": {
   "display_name": "Python 3 (ipykernel)",
   "language": "python",
   "name": "python3"
  },
  "language_info": {
   "codemirror_mode": {
    "name": "ipython",
    "version": 3
   },
   "file_extension": ".py",
   "mimetype": "text/x-python",
   "name": "python",
   "nbconvert_exporter": "python",
   "pygments_lexer": "ipython3",
   "version": "3.12.7"
  }
 },
 "nbformat": 4,
 "nbformat_minor": 5
}

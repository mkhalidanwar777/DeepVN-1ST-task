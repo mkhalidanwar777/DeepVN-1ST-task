{
 "cells": [
  {
   "cell_type": "markdown",
   "id": "6b2a6d8b-8a73-43de-9988-705b3a42a1cc",
   "metadata": {},
   "source": [
    "#  Loops (for, while)"
   ]
  },
  {
   "cell_type": "markdown",
   "id": "f3d21376-8f80-4211-aaf0-24f10b4a3954",
   "metadata": {},
   "source": [
    "## 1. Sum of First N Numbers \n",
    "Input n, output the sum of first n natural numbers using for loop."
   ]
  },
  {
   "cell_type": "code",
   "execution_count": 1,
   "id": "666c1254-16d8-45f9-b8c9-7ed15c79be43",
   "metadata": {},
   "outputs": [
    {
     "name": "stdin",
     "output_type": "stream",
     "text": [
      "enter a number :  5\n"
     ]
    },
    {
     "name": "stdout",
     "output_type": "stream",
     "text": [
      "sum of first n number is : 15\n"
     ]
    }
   ],
   "source": [
    "n = int(input(\"enter a number : \"))\n",
    "result= 0\n",
    "\n",
    "for i in  range(1,n+1) :\n",
    "    result=result+i\n",
    "    \n",
    "print(f\"sum of first n number is : {result}\")\n"
   ]
  },
  {
   "cell_type": "markdown",
   "id": "9aa61a32-6778-45e8-8621-2c0b99c999ed",
   "metadata": {},
   "source": [
    "## 2. Factorial Finder \n",
    "Find the factorial of a number using while loop."
   ]
  },
  {
   "cell_type": "code",
   "execution_count": 3,
   "id": "85f17bb1-a97e-480e-9966-edbdae682e4f",
   "metadata": {},
   "outputs": [
    {
     "name": "stdin",
     "output_type": "stream",
     "text": [
      "enter a number for Factorial :  5\n"
     ]
    },
    {
     "name": "stdout",
     "output_type": "stream",
     "text": [
      "5 Factorial is  : 120\n"
     ]
    }
   ],
   "source": [
    "n = int(input(\"enter a number for Factorial : \"))\n",
    "result= 1\n",
    "\n",
    "for i in  range(n,1,-1) :\n",
    "    result=result*i\n",
    "    \n",
    "print(f\"{n} Factorial is  : {result}\")\n"
   ]
  },
  {
   "cell_type": "markdown",
   "id": "5eaa789d-5897-4d54-bd03-e9c2a0f4e968",
   "metadata": {},
   "source": [
    "## 3. Multiplication Table Generator \n",
    "Print the multiplication table of a number. "
   ]
  },
  {
   "cell_type": "code",
   "execution_count": 4,
   "id": "c77b2973-d295-4033-8c2e-d6545cc4a2a6",
   "metadata": {},
   "outputs": [
    {
     "name": "stdin",
     "output_type": "stream",
     "text": [
      "enter a number for a table  :  5\n"
     ]
    },
    {
     "name": "stdout",
     "output_type": "stream",
     "text": [
      "5 * 1 = 5\n",
      "5 * 2 = 10\n",
      "5 * 3 = 15\n",
      "5 * 4 = 20\n",
      "5 * 5 = 25\n",
      "5 * 6 = 30\n",
      "5 * 7 = 35\n",
      "5 * 8 = 40\n",
      "5 * 9 = 45\n",
      "5 * 10 = 50\n"
     ]
    }
   ],
   "source": [
    "n = int(input(\"enter a number for a table  : \"))\n",
    "\n",
    "for i in range(1,11):\n",
    "    print(f\"{n} * {i} = {n*i}\")"
   ]
  },
  {
   "cell_type": "markdown",
   "id": "970d5ad1-3512-45d2-a995-8dffa29b3c54",
   "metadata": {},
   "source": [
    "## 4. Fibonacci Series \n",
    "Print the first n terms of the Fibonacci sequence."
   ]
  },
  {
   "cell_type": "code",
   "execution_count": 1,
   "id": "ae7c95e1-f1e6-4221-9200-5639aa70e2a1",
   "metadata": {},
   "outputs": [
    {
     "name": "stdin",
     "output_type": "stream",
     "text": [
      "enter a number for Fibonacci Series  :  8\n"
     ]
    },
    {
     "name": "stdout",
     "output_type": "stream",
     "text": [
      "0 1 1 2 3 5 8 13 "
     ]
    }
   ],
   "source": [
    "n = int(input(\"enter a number for Fibonacci Series  : \"))\n",
    "a  = 0\n",
    "b  = 1\n",
    "for i in range(n):\n",
    "        print(a, end=' ')\n",
    "        temp = a + b   \n",
    "        a = b          \n",
    "        b = temp   \n",
    "        "
   ]
  },
  {
   "cell_type": "markdown",
   "id": "3d87dc86-33fd-4e3d-b95b-e9de4c4c5ca0",
   "metadata": {},
   "source": [
    "## 5. Prime Number Between 1 to N \n",
    "Input n, print all prime numbers up to n."
   ]
  },
  {
   "cell_type": "code",
   "execution_count": 7,
   "id": "09c9da60-f4a6-4eeb-9460-3af935afcb3c",
   "metadata": {},
   "outputs": [
    {
     "name": "stdin",
     "output_type": "stream",
     "text": [
      "enter a number for to check it is prime number or not  :  17\n"
     ]
    },
    {
     "name": "stdout",
     "output_type": "stream",
     "text": [
      "17  is prime number \n"
     ]
    }
   ],
   "source": [
    "n = int(input(\"enter a number for to check it is prime number or not  : \"))\n",
    "count=0\n",
    "\n",
    "for i in range(1,n+1):\n",
    "    if n%i==0 :\n",
    "        count=count+1\n",
    "\n",
    "if count==2:\n",
    "    print(f\"{n}  is prime number \")\n",
    "else:\n",
    "    print(f\"{n} is not prime number \")\n",
    "        "
   ]
  },
  {
   "cell_type": "code",
   "execution_count": null,
   "id": "f7939f9f-a980-460a-b7d8-0508f0b6484f",
   "metadata": {},
   "outputs": [],
   "source": []
  }
 ],
 "metadata": {
  "kernelspec": {
   "display_name": "Python 3 (ipykernel)",
   "language": "python",
   "name": "python3"
  },
  "language_info": {
   "codemirror_mode": {
    "name": "ipython",
    "version": 3
   },
   "file_extension": ".py",
   "mimetype": "text/x-python",
   "name": "python",
   "nbconvert_exporter": "python",
   "pygments_lexer": "ipython3",
   "version": "3.12.7"
  }
 },
 "nbformat": 4,
 "nbformat_minor": 5
}

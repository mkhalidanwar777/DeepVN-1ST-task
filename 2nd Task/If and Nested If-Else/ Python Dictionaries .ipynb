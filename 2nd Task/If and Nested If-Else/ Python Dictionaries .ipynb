{
 "cells": [
  {
   "cell_type": "markdown",
   "id": "fced107e-cf23-49a3-ab0d-a8a514265d48",
   "metadata": {},
   "source": [
    "#  Python Dictionaries "
   ]
  },
  {
   "cell_type": "markdown",
   "id": "b80f8669-7a87-43a6-8f34-7395d257e033",
   "metadata": {},
   "source": [
    "## 1. Student Gradebook \n",
    "Store student names and grades in a dictionary. Allow lookup by name. "
   ]
  },
  {
   "cell_type": "code",
   "execution_count": 2,
   "id": "0bb326c8-1ac6-45d0-855e-04808215cf45",
   "metadata": {},
   "outputs": [
    {
     "name": "stdin",
     "output_type": "stream",
     "text": [
      "enter a name to find a student record :  khalid\n"
     ]
    },
    {
     "name": "stdout",
     "output_type": "stream",
     "text": [
      "khalid's grade is: {'bio': 75, 'eng': 70, 'maths': 75}\n"
     ]
    }
   ],
   "source": [
    "dict1={'khalid':{'bio':75, 'eng':70 , 'maths':75},\n",
    "       'salman':{'bio':74, 'eng':70, 'maths':75},\n",
    "       'ali':{'bio':65, 'eng':67, 'maths':67}\n",
    "       }\n",
    "\n",
    "name=input(\"enter a name to find a student record : \")\n",
    "\n",
    "if name in dict1:\n",
    "    print(f\"{name}'s grade is: {dict1[name]}\")\n",
    "else:\n",
    "    print(f\"No record found for {name}.\")"
   ]
  },
  {
   "cell_type": "markdown",
   "id": "07de5281-33e7-4607-ae60-2e6dc0fb4d5f",
   "metadata": {},
   "source": [
    "## 2. Word Counter \n",
    "Count occurrences of each word in a paragraph using a dictionary."
   ]
  },
  {
   "cell_type": "code",
   "execution_count": 3,
   "id": "aa649fa1-9cc7-4765-b424-bd7aba9ba220",
   "metadata": {},
   "outputs": [
    {
     "name": "stdin",
     "output_type": "stream",
     "text": [
      "Enter a paragraph:  my name is khalid anwar and my father name is M anwar masroor\n"
     ]
    },
    {
     "name": "stdout",
     "output_type": "stream",
     "text": [
      "\n",
      "Word occurrences:\n",
      "my: 2\n",
      "name: 2\n",
      "is: 2\n",
      "khalid: 1\n",
      "anwar: 2\n",
      "and: 1\n",
      "father: 1\n",
      "m: 1\n",
      "masroor: 1\n"
     ]
    }
   ],
   "source": [
    "paragraph = input(\"Enter a paragraph: \")\n",
    "\n",
    "words = paragraph.lower().split()\n",
    "\n",
    "word_count = {}\n",
    "\n",
    "for word in words:\n",
    "    word_count[word] = word_count.get(word, 0) + 1\n",
    "\n",
    "print(\"\\nWord occurrences:\")\n",
    "for word, count in word_count.items():\n",
    "    print(f\"{word}: {count}\")\n"
   ]
  },
  {
   "cell_type": "markdown",
   "id": "bcd1aa1f-59e3-4ab8-b06c-674644875980",
   "metadata": {},
   "source": [
    "## 3. Frequency of Characters \n",
    "Input a string and count character frequency using a dictionary."
   ]
  },
  {
   "cell_type": "code",
   "execution_count": 4,
   "id": "bcc26c0a-a371-40ae-ae6e-ea687f360e95",
   "metadata": {},
   "outputs": [
    {
     "name": "stdin",
     "output_type": "stream",
     "text": [
      "Enter a string:  my name is khalid anwar\n"
     ]
    },
    {
     "name": "stdout",
     "output_type": "stream",
     "text": [
      "\n",
      "Character frequencies:\n",
      "m: 2\n",
      "y: 1\n",
      " : 4\n",
      "n: 2\n",
      "a: 4\n",
      "e: 1\n",
      "i: 2\n",
      "s: 1\n",
      "k: 1\n",
      "h: 1\n",
      "l: 1\n",
      "d: 1\n",
      "w: 1\n",
      "r: 1\n"
     ]
    }
   ],
   "source": [
    "text = input(\"Enter a string: \")\n",
    "\n",
    "char_count = {}\n",
    "\n",
    "\n",
    "for char in text:\n",
    "    char_count[char] = \n",
    "    \n",
    "\n",
    "print(\"\\nCharacter frequencies:\")\n",
    "for char, count in char_count.items():\n",
    "    print(f\"{char}: {count}\")\n"
   ]
  },
  {
   "cell_type": "markdown",
   "id": "ee2c31e6-5a33-4fca-bb88-efd25e58bb5f",
   "metadata": {},
   "source": [
    "## 4. Key with Max Value \n",
    "From a dictionary of product:price, find the most expensive product."
   ]
  },
  {
   "cell_type": "code",
   "execution_count": 5,
   "id": "5857792a-176d-40af-a13d-97817cd1bd06",
   "metadata": {},
   "outputs": [
    {
     "name": "stdout",
     "output_type": "stream",
     "text": [
      "Most expensive product: Laptop\n",
      "Price: 950\n"
     ]
    }
   ],
   "source": [
    "products = {\n",
    "    \"Laptop\": 950,\n",
    "    \"Smartphone\": 750,\n",
    "    \"Headphones\": 120,\n",
    "    \"Monitor\": 300,\n",
    "    \"Tablet\": 450\n",
    "}\n",
    "\n",
    "most_expensive = max(products, key=products.get)\n",
    "\n",
    "print(f\"Most expensive product: {most_expensive}\")\n",
    "print(f\"Price: {products[most_expensive]}\")\n"
   ]
  },
  {
   "cell_type": "markdown",
   "id": "85523f29-2705-42f1-9c96-17770f7431d6",
   "metadata": {},
   "source": [
    "## 5. Merge Dictionaries \n",
    "Merge two dictionaries and handle overlapping keys (e.g., sum values if same key)."
   ]
  },
  {
   "cell_type": "code",
   "execution_count": null,
   "id": "58c16720-cb97-4d4a-b44b-3d4273da2372",
   "metadata": {},
   "outputs": [],
   "source": []
  }
 ],
 "metadata": {
  "kernelspec": {
   "display_name": "Python 3 (ipykernel)",
   "language": "python",
   "name": "python3"
  },
  "language_info": {
   "codemirror_mode": {
    "name": "ipython",
    "version": 3
   },
   "file_extension": ".py",
   "mimetype": "text/x-python",
   "name": "python",
   "nbconvert_exporter": "python",
   "pygments_lexer": "ipython3",
   "version": "3.12.7"
  }
 },
 "nbformat": 4,
 "nbformat_minor": 5
}

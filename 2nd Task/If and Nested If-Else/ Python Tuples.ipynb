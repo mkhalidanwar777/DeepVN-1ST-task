{
 "cells": [
  {
   "cell_type": "markdown",
   "id": "618f3d68-6531-4a08-af29-72f2fd171b69",
   "metadata": {},
   "source": [
    "#  Python Tuples"
   ]
  },
  {
   "cell_type": "markdown",
   "id": "eb83ec9f-33f5-47ab-8b06-9a802a8d6cbf",
   "metadata": {},
   "source": [
    "## . Tuple Swapper \n",
    "Swap the values of two tuples. "
   ]
  },
  {
   "cell_type": "code",
   "execution_count": 1,
   "id": "b2ad3abb-0233-4fa5-84a1-edfc785bad92",
   "metadata": {},
   "outputs": [
    {
     "name": "stdout",
     "output_type": "stream",
     "text": [
      "Before swapping:\n",
      "(10, 23, 23)\n",
      "(1, 2, 3)\n",
      "After swapping:\n",
      "(1, 2, 3)\n",
      "(10, 23, 23)\n"
     ]
    }
   ],
   "source": [
    "t1=(10,23,23)\n",
    "t2=(1,2,3)\n",
    "print(\"Before swapping:\")\n",
    "print(t1)\n",
    "print(t2)\n",
    "temp=t1\n",
    "t1=t2\n",
    "t2=temp\n",
    "print(\"After swapping:\")\n",
    "print(t1)\n",
    "print(t2)"
   ]
  },
  {
   "cell_type": "markdown",
   "id": "ba6cbbbc-45c9-4545-8373-f6eea98b88c1",
   "metadata": {},
   "source": [
    "## 2. Tuple Reverser \n",
    "Reverse a tuple using slicing and verify the result."
   ]
  },
  {
   "cell_type": "code",
   "execution_count": 2,
   "id": "29f178f4-bf2d-4f5a-ad29-1dbac18cab9f",
   "metadata": {},
   "outputs": [
    {
     "name": "stdout",
     "output_type": "stream",
     "text": [
      "Original tuple (10, 34, 23, 34, 56, 257)\n",
      "Reversed tuple:(257, 56, 34, 23, 34, 10)\n"
     ]
    }
   ],
   "source": [
    "t1=(10,34,23,34,56,257)\n",
    "t2=t1[::-1]\n",
    "\n",
    "print(f\"Original tuple {t1}\")\n",
    "print(f\"Reversed tuple:{t2}\")"
   ]
  },
  {
   "cell_type": "markdown",
   "id": "1caaa337-b2f6-46e9-b072-2598ede5930e",
   "metadata": {},
   "source": [
    "## 3. Tuple to String \n",
    "Convert a tuple of characters into a single string."
   ]
  },
  {
   "cell_type": "code",
   "execution_count": 3,
   "id": "ffca8fd3-ffc3-47c6-af75-bdc0394b0491",
   "metadata": {},
   "outputs": [
    {
     "name": "stdout",
     "output_type": "stream",
     "text": [
      "khalid\n"
     ]
    }
   ],
   "source": [
    "t1=('k','h','a','l','i','d')\n",
    "\n",
    "t2=\"\".join(t1)\n",
    "\n",
    "print(t2)"
   ]
  },
  {
   "cell_type": "markdown",
   "id": "fbedb3d7-a0a6-4dce-9154-c3adbe6ddea8",
   "metadata": {},
   "source": [
    "## 4. Element Index Finder \n",
    "Find the index of a user-input value in a tuple. "
   ]
  },
  {
   "cell_type": "code",
   "execution_count": 4,
   "id": "b2b0f5ef-7b15-4e02-a9c6-d39b5b30b7f5",
   "metadata": {},
   "outputs": [
    {
     "name": "stdin",
     "output_type": "stream",
     "text": [
      "Enter a value to find its index:  30\n"
     ]
    },
    {
     "name": "stdout",
     "output_type": "stream",
     "text": [
      "The index of 30 is: 2\n"
     ]
    }
   ],
   "source": [
    "t1 = (10, 20, 30, 40, 50)\n",
    "\n",
    "value = int(input(\"Enter a value to find its index: \"))\n",
    "\n",
    "if value in t1:\n",
    "    index = t1.index(value)\n",
    "    print(f\"The index of {value} is: {index}\")\n",
    "else:\n",
    "    print(f\"{value} is not in the tuple.\")\n"
   ]
  },
  {
   "cell_type": "markdown",
   "id": "49f3d9cd-02a3-4881-9770-8e921ac06a13",
   "metadata": {},
   "source": [
    "## 5. Immutable Test \n",
    "Try modifying a tuple element and observe the error. Explain why it happens."
   ]
  },
  {
   "cell_type": "code",
   "execution_count": 5,
   "id": "a52e143b-e9d6-4a89-ab1e-6ed7b0420d96",
   "metadata": {},
   "outputs": [
    {
     "ename": "TypeError",
     "evalue": "'tuple' object does not support item assignment",
     "output_type": "error",
     "traceback": [
      "\u001b[31m---------------------------------------------------------------------------\u001b[39m",
      "\u001b[31mTypeError\u001b[39m                                 Traceback (most recent call last)",
      "\u001b[36mCell\u001b[39m\u001b[36m \u001b[39m\u001b[32mIn[5]\u001b[39m\u001b[32m, line 2\u001b[39m\n\u001b[32m      1\u001b[39m t1=(\u001b[32m2\u001b[39m,\u001b[32m3\u001b[39m,\u001b[32m4\u001b[39m,\u001b[32m5\u001b[39m)\n\u001b[32m----> \u001b[39m\u001b[32m2\u001b[39m \u001b[43mt1\u001b[49m\u001b[43m[\u001b[49m\u001b[32;43m2\u001b[39;49m\u001b[43m]\u001b[49m=(\u001b[32m7\u001b[39m)\n",
      "\u001b[31mTypeError\u001b[39m: 'tuple' object does not support item assignment"
     ]
    }
   ],
   "source": [
    "t1=(2,3,4,5)\n",
    "t1[2]=(7)"
   ]
  },
  {
   "cell_type": "markdown",
   "id": "a5b94c6e-0798-47d5-b9ff-43f42a669c6d",
   "metadata": {},
   "source": []
  }
 ],
 "metadata": {
  "kernelspec": {
   "display_name": "Python 3 (ipykernel)",
   "language": "python",
   "name": "python3"
  },
  "language_info": {
   "codemirror_mode": {
    "name": "ipython",
    "version": 3
   },
   "file_extension": ".py",
   "mimetype": "text/x-python",
   "name": "python",
   "nbconvert_exporter": "python",
   "pygments_lexer": "ipython3",
   "version": "3.12.7"
  }
 },
 "nbformat": 4,
 "nbformat_minor": 5
}

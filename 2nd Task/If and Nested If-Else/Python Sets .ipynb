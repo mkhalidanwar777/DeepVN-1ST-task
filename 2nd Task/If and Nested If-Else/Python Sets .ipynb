{
 "cells": [
  {
   "cell_type": "markdown",
   "id": "3265f55e-cb84-4bd7-ac2e-23b9ae3f0709",
   "metadata": {},
   "source": [
    "# Python Sets "
   ]
  },
  {
   "cell_type": "markdown",
   "id": "edfbc067-e513-435d-aa73-e7c19af354fa",
   "metadata": {},
   "source": [
    "## 1. Set Union and Intersection \n",
    "Input two sets and print their union and intersection. "
   ]
  },
  {
   "cell_type": "code",
   "execution_count": 16,
   "id": "0a4e3472-9d5b-4ea8-98a5-3c2413a6546b",
   "metadata": {},
   "outputs": [
    {
     "name": "stdin",
     "output_type": "stream",
     "text": [
      "Enter the first set: 1234\n"
     ]
    },
    {
     "ename": "TypeError",
     "evalue": "'set' object is not callable",
     "output_type": "error",
     "traceback": [
      "\u001b[31m---------------------------------------------------------------------------\u001b[39m",
      "\u001b[31mTypeError\u001b[39m                                 Traceback (most recent call last)",
      "\u001b[36mCell\u001b[39m\u001b[36m \u001b[39m\u001b[32mIn[16]\u001b[39m\u001b[32m, line 1\u001b[39m\n\u001b[32m----> \u001b[39m\u001b[32m1\u001b[39m set1=\u001b[38;5;28;43mset\u001b[39;49m\u001b[43m(\u001b[49m\u001b[38;5;28;43minput\u001b[39;49m\u001b[43m(\u001b[49m\u001b[33;43m\"\u001b[39;49m\u001b[33;43mEnter the first set:\u001b[39;49m\u001b[33;43m\"\u001b[39;49m\u001b[43m)\u001b[49m\u001b[43m)\u001b[49m\n\u001b[32m      2\u001b[39m set2=\u001b[38;5;28mset\u001b[39m(\u001b[38;5;28minput\u001b[39m(\u001b[33m\"\u001b[39m\u001b[33mEnter the second set:\u001b[39m\u001b[33m\"\u001b[39m))\n\u001b[32m      4\u001b[39m \u001b[38;5;28mprint\u001b[39m(\u001b[33mf\u001b[39m\u001b[33m\"\u001b[39m\u001b[33mUnion of two set is : \u001b[39m\u001b[38;5;132;01m{\u001b[39;00m\u001b[38;5;28msorted\u001b[39m(set1.union(set2))\u001b[38;5;132;01m}\u001b[39;00m\u001b[33m\"\u001b[39m)\n",
      "\u001b[31mTypeError\u001b[39m: 'set' object is not callable"
     ]
    }
   ],
   "source": [
    "set1=set(input(\"Enter the first set:\"))\n",
    "set2=set(input(\"Enter the second set:\"))\n",
    "\n",
    "print(f\"Union of two set is : {sorted(set1.union(set2))}\")\n",
    "print(f\"intersection of two set is : {set1.intersection(set2)}\")\n"
   ]
  },
  {
   "cell_type": "markdown",
   "id": "811b30ef-9851-45bd-b498-8d5323469f2f",
   "metadata": {},
   "source": [
    "## 2. Unique Elements from List \n",
    "Convert a list to a set and show how duplicates are removed. "
   ]
  },
  {
   "cell_type": "code",
   "execution_count": 17,
   "id": "b0bd76b1-2fcd-4dac-a125-f7a8d2a21bba",
   "metadata": {},
   "outputs": [
    {
     "name": "stdout",
     "output_type": "stream",
     "text": [
      "uniqe number : [1, 2, 3, 4, 5, 6]\n",
      "\n",
      "duplicates number  :[1, 2, 3, 4]\n"
     ]
    }
   ],
   "source": [
    "list1=[1,1,2,2,3,3,4,4,5,6]\n",
    "list2=[]\n",
    "list3=[]\n",
    "for i in list1:\n",
    "    if i not in list2:\n",
    "        list2.append(i)\n",
    "    else:\n",
    "        list3.append(i)\n",
    "\n",
    "print(f\"uniqe number : {list2}\")\n",
    "\n",
    "print()\n",
    "print(f\"duplicates number  :{list3}\")"
   ]
  },
  {
   "cell_type": "markdown",
   "id": "5c8069c5-4371-47bd-87f1-ed67e64ef6b5",
   "metadata": {},
   "source": [
    "## 3. Subset and Superset Check \n",
    "Check whether one set is a subset or superset of another."
   ]
  },
  {
   "cell_type": "code",
   "execution_count": 10,
   "id": "0051d8cb-7459-429f-b6ae-daf55056f1bf",
   "metadata": {},
   "outputs": [
    {
     "name": "stdout",
     "output_type": "stream",
     "text": [
      "set1 is a subset of set2\n",
      "set2 is a superset of set1\n"
     ]
    }
   ],
   "source": [
    "set1 = {1, 2, 3}\n",
    "set2 = {1, 2, 3, 4, 5}\n",
    "\n",
    "if set1.issubset(set2):\n",
    "    print(\"set1 is a subset of set2\")\n",
    "else:\n",
    "    print(\"set1 is NOT a subset of set2\")\n",
    "\n",
    "if set2.issuperset(set1):\n",
    "    print(\"set2 is a superset of set1\")\n",
    "else:\n",
    "    print(\"set2 is NOT a superset of set1\")\n"
   ]
  },
  {
   "cell_type": "markdown",
   "id": "b231c774-3f7e-4786-9f5c-d70fc17a5ce3",
   "metadata": {},
   "source": [
    "## 4. Common Elements Finder \n",
    "Given two lists, use sets to find common elements. "
   ]
  },
  {
   "cell_type": "code",
   "execution_count": 13,
   "id": "39a12000-aec2-4467-bd49-978a7752754b",
   "metadata": {},
   "outputs": [
    {
     "ename": "TypeError",
     "evalue": "'set' object is not callable",
     "output_type": "error",
     "traceback": [
      "\u001b[31m---------------------------------------------------------------------------\u001b[39m",
      "\u001b[31mTypeError\u001b[39m                                 Traceback (most recent call last)",
      "\u001b[36mCell\u001b[39m\u001b[36m \u001b[39m\u001b[32mIn[13]\u001b[39m\u001b[32m, line 4\u001b[39m\n\u001b[32m      1\u001b[39m list1=[\u001b[32m1\u001b[39m,\u001b[32m2\u001b[39m,\u001b[32m3\u001b[39m,\u001b[32m4\u001b[39m,\u001b[32m5\u001b[39m]\n\u001b[32m      2\u001b[39m list2=[\u001b[32m3\u001b[39m,\u001b[32m4\u001b[39m,\u001b[32m5\u001b[39m,\u001b[32m6\u001b[39m]\n\u001b[32m----> \u001b[39m\u001b[32m4\u001b[39m set1=\u001b[38;5;28;43mset\u001b[39;49m\u001b[43m(\u001b[49m\u001b[43mlist1\u001b[49m\u001b[43m)\u001b[49m\n\u001b[32m      5\u001b[39m set2=\u001b[38;5;28mset\u001b[39m(list2)\n\u001b[32m      7\u001b[39m common_element=set1.intersection(set2)\n",
      "\u001b[31mTypeError\u001b[39m: 'set' object is not callable"
     ]
    }
   ],
   "source": [
    "list1=[1,2,3,4,5]\n",
    "list2=[3,4,5,6]\n",
    "\n",
    "set1=set(list1)\n",
    "set2=set(list2)\n",
    "\n",
    "common_element=set1.intersection(set2)\n",
    "print(f\"common element in this two set is : {common_element}\")"
   ]
  },
  {
   "cell_type": "markdown",
   "id": "fe850868-1fe7-4586-8f11-909815d20447",
   "metadata": {},
   "source": [
    "## 5. Symmetric Difference Demo \n",
    "Show the symmetric difference between two sets and explain its meaning. "
   ]
  },
  {
   "cell_type": "code",
   "execution_count": 14,
   "id": "9c29cfca-4413-42e1-b88e-2593ab39e4b9",
   "metadata": {},
   "outputs": [
    {
     "name": "stdout",
     "output_type": "stream",
     "text": [
      "symmetric difference is : {1, 2, 6}\n"
     ]
    }
   ],
   "source": [
    "set1={1,2,3,4,5}\n",
    "set2={3,4,5,6}\n",
    "\n",
    "symmetric_difference=set1.symmetric_difference(set2)\n",
    "print(f\"symmetric difference is : {symmetric_difference}\")"
   ]
  },
  {
   "cell_type": "code",
   "execution_count": null,
   "id": "ffca2449-a022-4f3a-a014-0109c1cc5975",
   "metadata": {},
   "outputs": [],
   "source": []
  }
 ],
 "metadata": {
  "kernelspec": {
   "display_name": "Python 3 (ipykernel)",
   "language": "python",
   "name": "python3"
  },
  "language_info": {
   "codemirror_mode": {
    "name": "ipython",
    "version": 3
   },
   "file_extension": ".py",
   "mimetype": "text/x-python",
   "name": "python",
   "nbconvert_exporter": "python",
   "pygments_lexer": "ipython3",
   "version": "3.12.7"
  }
 },
 "nbformat": 4,
 "nbformat_minor": 5
}

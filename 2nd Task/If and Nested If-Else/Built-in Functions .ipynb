{
 "cells": [
  {
   "cell_type": "markdown",
   "id": "dd6ccece-7306-4ccf-a395-11dc2706ee0d",
   "metadata": {},
   "source": [
    "# Built-in Functions "
   ]
  },
  {
   "cell_type": "markdown",
   "id": "00440ed6-1f4e-4925-8c67-05ef51625cf3",
   "metadata": {},
   "source": [
    "## 1. List Stats \n",
    "Given a list of numbers, use built-in functions to find max, min, sum, and average. "
   ]
  },
  {
   "cell_type": "code",
   "execution_count": 1,
   "id": "bf1a4883-a57b-4cc5-b05e-79b4cdc7f99d",
   "metadata": {},
   "outputs": [
    {
     "name": "stdout",
     "output_type": "stream",
     "text": [
      " maximum number in list : 32\n",
      " minimum number in list : 9\n",
      " sum of all list number : 94\n",
      " average of list : 18.8\n"
     ]
    }
   ],
   "source": [
    "numbers =[12,23,18,32,9]\n",
    "\n",
    "maximum = max(numbers)\n",
    "minimum = min(numbers)\n",
    "total = sum(numbers)\n",
    "average = total / len(numbers)\n",
    "\n",
    "print(f\" maximum number in list : {maximum}\")\n",
    "print(f\" minimum number in list : {minimum}\")\n",
    "print(f\" sum of all list number : {total}\")\n",
    "print(f\" average of list : {average}\")"
   ]
  },
  {
   "cell_type": "markdown",
   "id": "ab374bc8-fe07-4c05-a3c0-397350546611",
   "metadata": {},
   "source": [
    "## 2. String Case Counter \n",
    "Input a string and use built-ins to count uppercase and lowercase letters. "
   ]
  },
  {
   "cell_type": "code",
   "execution_count": 2,
   "id": "2b74a2ed-e8a4-42c2-9d7d-ee54a33429ee",
   "metadata": {},
   "outputs": [
    {
     "name": "stdin",
     "output_type": "stream",
     "text": [
      " enter a text to find uppercase and lowercase letters  KHALID anwar\n"
     ]
    },
    {
     "name": "stdout",
     "output_type": "stream",
     "text": [
      " upper letter in your input is : 6\n",
      " lower letter in your input is : 5\n"
     ]
    }
   ],
   "source": [
    "text =input(\" enter a text to find uppercase and lowercase letters \")\n",
    "\n",
    "uppercase_count=0\n",
    "lowercase_count=0\n",
    "\n",
    "for char in  text:\n",
    "   if char.isupper():\n",
    "       uppercase_count= uppercase_count+1\n",
    "   elif char.islower():\n",
    "       lowercase_count=lowercase_count+1\n",
    "\n",
    "print(f\" upper letter in your input is : {uppercase_count}\")\n",
    "print(f\" lower letter in your input is : {lowercase_count}\")\n"
   ]
  },
  {
   "cell_type": "markdown",
   "id": "e08da4ca-445a-4ab1-8e82-0632e677a61d",
   "metadata": {},
   "source": [
    "## 3. Sorted Even Numbers \n",
    "From a list of integers, extract even numbers and return them sorted in descending order. "
   ]
  },
  {
   "cell_type": "code",
   "execution_count": 3,
   "id": "9828563f-7a1b-44ad-a0c0-79f4d831de37",
   "metadata": {},
   "outputs": [
    {
     "name": "stdout",
     "output_type": "stream",
     "text": [
      "only evene number list now : [12, 2, 6, 62, 14]\n",
      " now even number list in descending order : [62, 14, 12, 6, 2]\n"
     ]
    }
   ],
   "source": [
    "number =[12,2,3,6,62,14]\n",
    "even_number=[]\n",
    "for i in range(len(number)):\n",
    "    if number[i]%2==0:\n",
    "        even_number.append(number[i])\n",
    "\n",
    "print(f\"only evene number list now : {even_number}\")\n",
    "even_number.sort(reverse=True)\n",
    "print(f\" now even number list in descending order : {even_number}\")\n"
   ]
  },
  {
   "cell_type": "markdown",
   "id": "ce050532-1adf-4848-b4a0-9b18f1b890e7",
   "metadata": {},
   "source": [
    "## 4. Custom Round-off \n",
    "Input a float, round it to two decimal places using built-in round(). "
   ]
  },
  {
   "cell_type": "code",
   "execution_count": 4,
   "id": "40a6fb03-38d9-4d1a-b171-70ba3c674d6c",
   "metadata": {},
   "outputs": [
    {
     "name": "stdin",
     "output_type": "stream",
     "text": [
      "Enter a floating-point number :  13.4563\n"
     ]
    },
    {
     "name": "stdout",
     "output_type": "stream",
     "text": [
      "Rounded number: 13.46\n"
     ]
    }
   ],
   "source": [
    "num = float(input(\"Enter a floating-point number : \"))\n",
    "rounded_num = round(num, 2)\n",
    "\n",
    "print(f\"Rounded number: {rounded_num}\")\n"
   ]
  },
  {
   "cell_type": "markdown",
   "id": "6260f626-f4a1-4b16-a475-e5bcfe59ba8c",
   "metadata": {},
   "source": [
    "## 5. ASCII Value Finder \n",
    "## American Standard Code for Information Interchange\n",
    "Input a character and find its ASCII value using ord()."
   ]
  },
  {
   "cell_type": "code",
   "execution_count": 5,
   "id": "a689e4a8-8eae-4720-a9f1-7127e3cfc136",
   "metadata": {},
   "outputs": [
    {
     "name": "stdin",
     "output_type": "stream",
     "text": [
      "Enter a character:  A\n"
     ]
    },
    {
     "name": "stdout",
     "output_type": "stream",
     "text": [
      "ASCII value of A is 65\n"
     ]
    }
   ],
   "source": [
    "char = input(\"Enter a character: \")\n",
    "\n",
    "print(f\"ASCII value of {char} is {ord(char)}\")\n"
   ]
  },
  {
   "cell_type": "code",
   "execution_count": null,
   "id": "aba58df9-7396-4858-a125-e6e7da65d0b5",
   "metadata": {},
   "outputs": [],
   "source": []
  }
 ],
 "metadata": {
  "kernelspec": {
   "display_name": "Python 3 (ipykernel)",
   "language": "python",
   "name": "python3"
  },
  "language_info": {
   "codemirror_mode": {
    "name": "ipython",
    "version": 3
   },
   "file_extension": ".py",
   "mimetype": "text/x-python",
   "name": "python",
   "nbconvert_exporter": "python",
   "pygments_lexer": "ipython3",
   "version": "3.12.7"
  }
 },
 "nbformat": 4,
 "nbformat_minor": 5
}

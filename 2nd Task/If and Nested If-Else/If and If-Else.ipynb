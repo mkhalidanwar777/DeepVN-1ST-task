{
 "cells": [
  {
   "cell_type": "markdown",
   "id": "62d96cd2-9585-4a9f-bf73-600370404352",
   "metadata": {},
   "source": [
    "# If and If-Else"
   ]
  },
  {
   "cell_type": "markdown",
   "id": "9dd42237-fdaa-4443-af5e-49f9e00c3232",
   "metadata": {},
   "source": [
    "## 1. Grade Evaluator"
   ]
  },
  {
   "cell_type": "markdown",
   "id": "1602092a-4e63-4485-bf9a-4377abc30c16",
   "metadata": {},
   "source": [
    "     Input student marks and output grades:"
   ]
  },
  {
   "cell_type": "code",
   "execution_count": 7,
   "id": "df0c3ddd-f700-4536-91d0-7845f7b61334",
   "metadata": {},
   "outputs": [
    {
     "name": "stdin",
     "output_type": "stream",
     "text": [
      " enter your marks :  90\n"
     ]
    },
    {
     "name": "stdout",
     "output_type": "stream",
     "text": [
      " your Grades : A\n"
     ]
    }
   ],
   "source": [
    "marks = int(input(\" enter your marks : \"))\n",
    "\n",
    "if marks>=90 and marks<=100:\n",
    "    grade = 'A'\n",
    "    print(f\" your Grades : {grade}\")\n",
    "elif marks>=80 and marks<=89:\n",
    "    grade='B'\n",
    "    print(f\" your Grades : {grade}\")\n",
    "elif marks>=70 and marks<=79:\n",
    "    grade='C'\n",
    "    print(f\" your Grades : {grade}\")\n",
    "elif marks<=69:\n",
    "    grade='F'\n",
    "    print(f\" your Grades : {grade}\")\n",
    "else :\n",
    "    print(f\"plz enter grade form 1 to 100\")\n",
    "    "
   ]
  },
  {
   "cell_type": "markdown",
   "id": "9c162b0f-de88-4298-b993-5684ff83a0bc",
   "metadata": {},
   "source": [
    "## 2. Leap Year Checker \n",
    "Check if a given year is a leap year using nested if-else. \n"
   ]
  },
  {
   "cell_type": "code",
   "execution_count": 18,
   "id": "0b735c8c-efb3-44e3-98d2-15d98742571f",
   "metadata": {},
   "outputs": [
    {
     "name": "stdin",
     "output_type": "stream",
     "text": [
      "Enter the year which you want to check it is leap year or not : 1900\n"
     ]
    },
    {
     "name": "stdout",
     "output_type": "stream",
     "text": [
      "The year is not leap\n"
     ]
    }
   ],
   "source": [
    "year=int(input(\"Enter the year which you want to check it is leap year or not :\"))\n",
    "if year%4==0:\n",
    "    if year%100!=0 or year%400==0:\n",
    "        print(\"The year is leap\")\n",
    "    else:\n",
    "        print(\"The year is not leap\")\n",
    "else:\n",
    "    print(\"The year is not leap\")"
   ]
  },
  {
   "cell_type": "markdown",
   "id": "39185ce9-7bf6-4c97-ae71-21a16a6b058b",
   "metadata": {},
   "source": [
    "## 3. Largest of Three Numbers \n",
    "Take three numbers and find the largest using nested if-else."
   ]
  },
  {
   "cell_type": "code",
   "execution_count": 3,
   "id": "3e295249-0f77-46c0-a56d-fe3ff168c3e2",
   "metadata": {},
   "outputs": [
    {
     "name": "stdin",
     "output_type": "stream",
     "text": [
      " enter 1st number :  900\n",
      " enter 2nd number :  23\n",
      " enter 3rd number :  455\n"
     ]
    },
    {
     "name": "stdout",
     "output_type": "stream",
     "text": [
      " largest number is num 1 : 900\n"
     ]
    }
   ],
   "source": [
    "num1 =int(input(\" enter 1st number : \")) \n",
    "num2 =int(input(\" enter 2nd number : \"))\n",
    "num3 =int(input(\" enter 3rd number : \"))\n",
    "\n",
    "if num1>num2 and num1>num3:\n",
    "    print(f\" largest number is num 1 : {num1}\")\n",
    "    \n",
    "elif num2>num1 and num2>num3:\n",
    "    print(f\" largest number is num 2 : {num2}\")\n",
    "    \n",
    "elif num3>num2 and num3>num1:\n",
    "    print(f\" largest number is num 3 : {num3}\")\n"
   ]
  },
  {
   "cell_type": "markdown",
   "id": "a02aedbe-ec73-4e85-bccf-ac45364c1a04",
   "metadata": {},
   "source": [
    "## 4. Traffic Light Simulator \n",
    "Input a color (red, yellow, or green) and display appropriate action: STOP, WAIT, GO. "
   ]
  },
  {
   "cell_type": "code",
   "execution_count": 5,
   "id": "4b6277dd-2e3f-4a1e-817d-6ae7be7e0ec9",
   "metadata": {},
   "outputs": [
    {
     "name": "stdin",
     "output_type": "stream",
     "text": [
      " enter a one color name like red, green or yellow :  red\n"
     ]
    },
    {
     "name": "stdout",
     "output_type": "stream",
     "text": [
      "stop \n"
     ]
    }
   ],
   "source": [
    "color = input(\" enter a one color name like red, green or yellow : \")\n",
    "\n",
    "if color=='red' :\n",
    "    print(\"stop \")\n",
    "elif color=='green' :\n",
    "    print(\"Go\")\n",
    "elif color=='yellow' :\n",
    "    print(\"wait\")\n",
    "    \n",
    "else :\n",
    "    print(f\"you enter imcoorect color  {color}\" )"
   ]
  },
  {
   "cell_type": "markdown",
   "id": "b3ac544a-37b2-459d-b6da-7287e3ea33bc",
   "metadata": {},
   "source": [
    "## 5. Simple Calculator with Conditions \n",
    "Accept two numbers and an operator (+, -, *, /) and compute the result using nested \n",
    "conditions."
   ]
  },
  {
   "cell_type": "code",
   "execution_count": 4,
   "id": "8e2e8c2a-4d5f-4027-a683-83c431958874",
   "metadata": {},
   "outputs": [
    {
     "name": "stdin",
     "output_type": "stream",
     "text": [
      " enter a 1st number :  23\n",
      " enter a 2nd number :  22\n",
      "now enter a operator like +,-,/,*  :  +\n"
     ]
    },
    {
     "name": "stdout",
     "output_type": "stream",
     "text": [
      "sum of num1 and num2 is 45 \n"
     ]
    }
   ],
   "source": [
    "num1 = int(input(\" enter a 1st number : \"))\n",
    "num2 = int(input(\" enter a 2nd number : \"))\n",
    "operator = input(\"now enter a operator like +,-,/,*  : \")\n",
    "\n",
    "if operator=='+':\n",
    "    print(f\"sum of num1 and num2 is {num1+num2} \")\n",
    "elif operator=='-':\n",
    "    print(f\"subtract of two number : {num1-num2}\")\n",
    "elif operator=='*':\n",
    "    print(f\"multiplication of num1 and num2 : {num1*num2}\")\n",
    "elif operator=='/' :\n",
    "    print(f\"Division of num1/num2 is : {num1/num2}\")\n",
    "else :\n",
    "    print(f\"you enter a incorrect operator : {operator}\")"
   ]
  },
  {
   "cell_type": "code",
   "execution_count": null,
   "id": "64c97712-0265-4b28-83b6-e551103ac0a3",
   "metadata": {},
   "outputs": [],
   "source": []
  }
 ],
 "metadata": {
  "kernelspec": {
   "display_name": "Python 3 (ipykernel)",
   "language": "python",
   "name": "python3"
  },
  "language_info": {
   "codemirror_mode": {
    "name": "ipython",
    "version": 3
   },
   "file_extension": ".py",
   "mimetype": "text/x-python",
   "name": "python",
   "nbconvert_exporter": "python",
   "pygments_lexer": "ipython3",
   "version": "3.12.7"
  }
 },
 "nbformat": 4,
 "nbformat_minor": 5
}

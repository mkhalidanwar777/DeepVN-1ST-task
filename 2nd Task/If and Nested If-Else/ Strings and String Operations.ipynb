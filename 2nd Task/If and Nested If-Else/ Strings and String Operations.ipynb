{
 "cells": [
  {
   "cell_type": "markdown",
   "id": "7c265d3f-0114-4ece-9c9b-c48ffb3f5203",
   "metadata": {},
   "source": [
    "#  Strings and String Operations"
   ]
  },
  {
   "cell_type": "markdown",
   "id": "4bbc5e1b-75b8-4879-be28-7338b666a708",
   "metadata": {},
   "source": [
    "## 1. Palindrome Checker \n",
    "Check if the input string is a palindrome (e.g., madam, racecar)."
   ]
  },
  {
   "cell_type": "code",
   "execution_count": 1,
   "id": "78c9b9b8-10cd-4139-a644-02b554037ab0",
   "metadata": {},
   "outputs": [
    {
     "name": "stdin",
     "output_type": "stream",
     "text": [
      "enter a string to check it's a palindrome :  LOL\n"
     ]
    },
    {
     "name": "stdout",
     "output_type": "stream",
     "text": [
      "it's a palindrome \n"
     ]
    }
   ],
   "source": [
    "text = input(\"enter a string to check it's a palindrome : \")\n",
    "\n",
    "if text==text[::-1]:\n",
    "    print(\"it's a palindrome \")\n",
    "else:\n",
    "    print(\"it's not a palindrome\")"
   ]
  },
  {
   "cell_type": "markdown",
   "id": "32d319a0-d18a-46bb-9166-decb88781ce0",
   "metadata": {},
   "source": [
    "## 2. Word Frequency Counter \n",
    "Count the frequency of each word in a sentence."
   ]
  },
  {
   "cell_type": "code",
   "execution_count": 10,
   "id": "85bafd12-24b6-4b64-b8e1-3c7a1196ea63",
   "metadata": {},
   "outputs": [
    {
     "name": "stdin",
     "output_type": "stream",
     "text": [
      "Enter a sentence:  my name is khalid ANWAR and my father name is anwar masroor\n"
     ]
    },
    {
     "name": "stdout",
     "output_type": "stream",
     "text": [
      "khalid: 1\n",
      "father: 1\n",
      "name: 2\n",
      "anwar: 2\n",
      "my: 2\n",
      "masroor: 1\n",
      "and: 1\n",
      "is: 2\n"
     ]
    }
   ],
   "source": [
    "sentence = input(\"Enter a sentence: \")\n",
    "\n",
    "words = sentence.lower().split()\n",
    "\n",
    "for i in set(words):\n",
    "    print(f\"{i}: {words.count(i)}\")\n"
   ]
  },
  {
   "cell_type": "markdown",
   "id": "c1b915b2-6120-4423-8556-e20257ea3d9a",
   "metadata": {},
   "source": [
    "## 3. Vowel and Consonant Counter \n",
    "Count how many vowels and consonants are in a string. "
   ]
  },
  {
   "cell_type": "code",
   "execution_count": 3,
   "id": "a7595b0e-b45a-4ed5-874d-fbbdc9476e7d",
   "metadata": {},
   "outputs": [
    {
     "name": "stdin",
     "output_type": "stream",
     "text": [
      "enter a string to check how many is vowels and consonants are in a string.  my name is KHALID anwar\n"
     ]
    },
    {
     "name": "stdout",
     "output_type": "stream",
     "text": [
      " vowels in sting is : 7\n",
      " consonat in string is : 12\n"
     ]
    }
   ],
   "source": [
    "text = input(\"enter a string to check how many is vowels and consonants are in a string. \")\n",
    "\n",
    "vowels = \"aeiouAEIOU\"\n",
    "vowels_counter=0\n",
    "consonant_count=0\n",
    "for char in text:\n",
    "    if char.isalpha():\n",
    "        if char in vowels:\n",
    "            vowels_counter +=1\n",
    "        else:\n",
    "            consonant_count +=1\n",
    "\n",
    "print(f\" vowels in sting is : {vowels_counter}\")\n",
    "print(f\" consonat in string is : {consonant_count}\")"
   ]
  },
  {
   "cell_type": "markdown",
   "id": "7f59d99e-52f1-4e9b-8135-95d7e1db1c8c",
   "metadata": {},
   "source": [
    "## 4. Remove Punctuation\n",
    "Input a sentence and remove punctuation from it."
   ]
  },
  {
   "cell_type": "code",
   "execution_count": 12,
   "id": "5dcb7353-6665-448b-9a87-962320f90caf",
   "metadata": {},
   "outputs": [
    {
     "name": "stdout",
     "output_type": "stream",
     "text": [
      "\n"
     ]
    },
    {
     "name": "stdin",
     "output_type": "stream",
     "text": [
      "enter  a string :   what ! is your # name ? \n"
     ]
    },
    {
     "name": "stdout",
     "output_type": "stream",
     "text": [
      "\n",
      "Before a punctuation string is : what ! is your # name ? \n",
      "\n",
      "After a  punctuation string is : what  is your  name  \n"
     ]
    }
   ],
   "source": [
    "punc = '''!@#$%^&*()-+=_\\'|}]/?.,><[{'\"'''\n",
    "print()\n",
    "text = input(\"enter  a string :  \")\n",
    "print()\n",
    "empty_text=\"\"\n",
    "\n",
    "for i in text:\n",
    "    if i not in punc:\n",
    "        empty_text +=i\n",
    "\n",
    "print(f\"Before a punctuation string is : {text}\" )\n",
    "print()\n",
    "print(f\"After a  punctuation string is : {empty_text}\")\n"
   ]
  },
  {
   "cell_type": "markdown",
   "id": "23576b16-72be-43ca-8620-6dfc8342c225",
   "metadata": {},
   "source": [
    "## 5. Longest Word Finder\n",
    "Input a sentence and find the longest word."
   ]
  },
  {
   "cell_type": "code",
   "execution_count": 9,
   "id": "b2753d6b-6125-4514-ae6f-a0d628e6ac53",
   "metadata": {},
   "outputs": [
    {
     "name": "stdin",
     "output_type": "stream",
     "text": [
      "entre a string to find the longest word :  my name is khalid anwar\n"
     ]
    },
    {
     "name": "stdout",
     "output_type": "stream",
     "text": [
      "longest words is : khalid\n",
      "longest words lenght is : 6\n"
     ]
    }
   ],
   "source": [
    "text =  input(\"entre a string to find the longest word : \")\n",
    "\n",
    "words =text.split()\n",
    "\n",
    "longest_word =max(words , key=len)\n",
    "\n",
    "print(f\"longest words is : {longest_word}\")\n",
    "print(f\"longest words lenght is : {len(longest_word)}\")"
   ]
  },
  {
   "cell_type": "code",
   "execution_count": null,
   "id": "8bc35ab6-8bea-427b-8495-334961dd990b",
   "metadata": {},
   "outputs": [],
   "source": []
  }
 ],
 "metadata": {
  "kernelspec": {
   "display_name": "Python 3 (ipykernel)",
   "language": "python",
   "name": "python3"
  },
  "language_info": {
   "codemirror_mode": {
    "name": "ipython",
    "version": 3
   },
   "file_extension": ".py",
   "mimetype": "text/x-python",
   "name": "python",
   "nbconvert_exporter": "python",
   "pygments_lexer": "ipython3",
   "version": "3.12.7"
  }
 },
 "nbformat": 4,
 "nbformat_minor": 5
}

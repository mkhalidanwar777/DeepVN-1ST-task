{
 "cells": [
  {
   "cell_type": "markdown",
   "id": "1982221e-9a5c-4350-a179-67363eb67836",
   "metadata": {},
   "source": [
    "Muhammad Khalid Anwar\n",
    "    "
   ]
  },
  {
   "cell_type": "markdown",
   "id": "dc0ebf29-7f42-41ef-b053-159178d4abe1",
   "metadata": {},
   "source": [
    "1 print Hello world"
   ]
  },
  {
   "cell_type": "code",
   "execution_count": 1,
   "id": "ab482db3-3ba0-4891-a105-b44c772bfd79",
   "metadata": {},
   "outputs": [
    {
     "name": "stdout",
     "output_type": "stream",
     "text": [
      "Hello, World!\n"
     ]
    }
   ],
   "source": [
    "print(\"Hello, World!\")"
   ]
  },
  {
   "cell_type": "markdown",
   "id": "51aecd39-d2b3-4710-9e64-7eda11e50830",
   "metadata": {},
   "source": [
    "2 Print multiple items in one statement"
   ]
  },
  {
   "cell_type": "code",
   "execution_count": 2,
   "id": "97441e83-59b2-43cf-8fae-a3c6196c1756",
   "metadata": {},
   "outputs": [
    {
     "name": "stdout",
     "output_type": "stream",
     "text": [
      "Name:  khalid  Age:  24  city:  Akora Khattak\n"
     ]
    }
   ],
   "source": [
    "name = \"khalid\" \n",
    "age = 24\n",
    "city = \"Akora Khattak\"\n",
    "print(\"Name: \",name ,\" Age: \",age,\" city: \",city)"
   ]
  },
  {
   "cell_type": "markdown",
   "id": "65708732-6c57-435a-8664-3420a6eb05f3",
   "metadata": {},
   "source": [
    "3 Print using escape characters \n"
   ]
  },
  {
   "cell_type": "code",
   "execution_count": 4,
   "id": "2310dd09-9d65-4ad0-94ed-8ae9408f39bc",
   "metadata": {},
   "outputs": [
    {
     "name": "stdout",
     "output_type": "stream",
     "text": [
      " Welcome to Python! \n",
      " Let's learn coding.\n"
     ]
    }
   ],
   "source": [
    "print (\" Welcome to Python! \\n Let's learn coding.\")"
   ]
  },
  {
   "cell_type": "markdown",
   "id": "1c459632-3ec4-4b6a-8827-cff36a84240c",
   "metadata": {},
   "source": [
    "4 Print quotes inside a string\n",
    "\n"
   ]
  },
  {
   "cell_type": "code",
   "execution_count": 6,
   "id": "9118d7ba-ca1d-4f52-b14e-fb654e0f81f6",
   "metadata": {},
   "outputs": [
    {
     "name": "stdout",
     "output_type": "stream",
     "text": [
      "He said, \"Python is amazing!\"\n"
     ]
    }
   ],
   "source": [
    "print( 'He said, \"Python is amazing!\"')"
   ]
  },
  {
   "cell_type": "markdown",
   "id": "965a4bd9-17b4-4c17-88ba-00df9c72a33d",
   "metadata": {},
   "source": [
    "5 Print a pattern using stars \n"
   ]
  },
  {
   "cell_type": "code",
   "execution_count": 7,
   "id": "5e79adaf-703d-4d5b-b7fd-e83b5f1e1800",
   "metadata": {},
   "outputs": [
    {
     "name": "stdout",
     "output_type": "stream",
     "text": [
      "*\n",
      "**\n",
      "***\n",
      "****\n",
      "*****\n"
     ]
    }
   ],
   "source": [
    "for i in range(1,6):\n",
    "    for j in range(0,i):\n",
    "        print(\"*\", end=\"\")\n",
    "    print(\"\")"
   ]
  },
  {
   "cell_type": "markdown",
   "id": "901ac1e5-6b3f-4a1f-a16f-c7a96af70f2c",
   "metadata": {},
   "source": [
    "\n",
    "6  Formatted string output using f-strings \n"
   ]
  },
  {
   "cell_type": "code",
   "execution_count": 10,
   "id": "3a2bd9f4-3f1e-4e0c-be9b-50b6c71472ad",
   "metadata": {},
   "outputs": [
    {
     "name": "stdin",
     "output_type": "stream",
     "text": [
      "enter is your Name  Khalid Anwar\n",
      "enter is your age  24\n"
     ]
    },
    {
     "name": "stdout",
     "output_type": "stream",
     "text": [
      "Hello, my name is Khalid Anwar and I am 24 Years old\n"
     ]
    }
   ],
   "source": [
    "name = input(\"enter is your Name \")\n",
    "age = int(input(\"enter is your age \"))\n",
    "\n",
    "print(f\"Hello, my name is {name} and I am {age} Years old\")\n"
   ]
  },
  {
   "cell_type": "markdown",
   "id": "1bed970f-382a-48c9-8c2a-13f899167fd7",
   "metadata": {},
   "source": [
    "7 Table\n"
   ]
  },
  {
   "cell_type": "code",
   "execution_count": 11,
   "id": "819c421b-e8ff-4d22-a7ef-609c1534656e",
   "metadata": {},
   "outputs": [
    {
     "name": "stdin",
     "output_type": "stream",
     "text": [
      "Please enter a number:  5\n"
     ]
    },
    {
     "name": "stdout",
     "output_type": "stream",
     "text": [
      "5 x 1 = 5\n",
      "5 x 2 = 10\n",
      "5 x 3 = 15\n",
      "5 x 4 = 20\n",
      "5 x 5 = 25\n",
      "5 x 6 = 30\n",
      "5 x 7 = 35\n",
      "5 x 8 = 40\n",
      "5 x 9 = 45\n",
      "5 x 10 = 50\n"
     ]
    }
   ],
   "source": [
    "number =int(input(\"Please enter a number: \"))\n",
    "\n",
    "for i in range(1,11,1):\n",
    "    print(number,\"x\",i,\"=\",i*number)"
   ]
  },
  {
   "cell_type": "markdown",
   "id": "f710c880-34b8-4eda-9f59-35212833b513",
   "metadata": {},
   "source": [
    "8 Align text with padding"
   ]
  },
  {
   "cell_type": "code",
   "execution_count": 12,
   "id": "dfaa2e04-b65f-41c3-99f4-cc9a3c8599e3",
   "metadata": {},
   "outputs": [
    {
     "name": "stdout",
     "output_type": "stream",
     "text": [
      "Apple         Banana         Mango\n",
      "\n"
     ]
    }
   ],
   "source": [
    "print(f\"{'Apple' : <10}  {'Banana': ^10}  {'Mango': >10}\" )\n",
    "print()\n"
   ]
  },
  {
   "cell_type": "markdown",
   "id": "77316028-57b3-470a-aa71-6afc2f2fb173",
   "metadata": {},
   "source": [
    "9 Output the result of a simple calculation"
   ]
  },
  {
   "cell_type": "code",
   "execution_count": 13,
   "id": "6d6d1f23-de29-467a-a2c9-fcabfcfa3943",
   "metadata": {},
   "outputs": [
    {
     "name": "stdout",
     "output_type": "stream",
     "text": [
      "5  +  12  =  17\n"
     ]
    }
   ],
   "source": [
    "a = 5\n",
    "b = 12\n",
    "print(a,\" + \",b,\" = \",a+b)\n"
   ]
  },
  {
   "cell_type": "markdown",
   "id": "6fcc1ca2-960f-4da1-8e72-02bedb1092ca",
   "metadata": {},
   "source": [
    "10. Print a formatted receipt \n",
    "\n"
   ]
  },
  {
   "cell_type": "code",
   "execution_count": 14,
   "id": "50890154-d233-4503-99fb-e079aa053b4c",
   "metadata": {},
   "outputs": [
    {
     "name": "stdout",
     "output_type": "stream",
     "text": [
      "- Item names \n",
      "- Quantity \n",
      "- Price\n",
      "- Total\n"
     ]
    }
   ],
   "source": [
    "print(\"- Item names \\n- Quantity \\n- Price\\n- Total\")"
   ]
  },
  {
   "cell_type": "markdown",
   "id": "ff84129c-9f60-4e42-a188-63d12a82cd40",
   "metadata": {},
   "source": [
    "                                        Basic Keyword Exercises (1–10)"
   ]
  },
  {
   "cell_type": "markdown",
   "id": "4062fee4-0271-40b0-ac5a-bddcc77462a1",
   "metadata": {},
   "source": [
    "\n",
    "1. Print a list of some common Python keywords.\n"
   ]
  },
  {
   "cell_type": "code",
   "execution_count": 15,
   "id": "765cf558-f642-442a-8040-51576cb00375",
   "metadata": {},
   "outputs": [
    {
     "name": "stdout",
     "output_type": "stream",
     "text": [
      "i)  if \n",
      "ii) else \n",
      "iii) match \n",
      "iv)  try \n",
      "v)   catch \n",
      "vi)  input \n",
      "vii) length \n",
      "viii) filter \n",
      "ix)   while \n",
      " x)   for \n"
     ]
    }
   ],
   "source": [
    "print(\n",
    "    \"i)  if \\nii) else \\niii) match \\niv)  try \\nv)   catch \\nvi)  input \\nvii) length \\nviii) filter \\nix)   while \\n x)   for \"\n",
    ")\n"
   ]
  },
  {
   "cell_type": "raw",
   "id": "723e173d-d4d7-43ee-b010-311b196e45bc",
   "metadata": {},
   "source": [
    "2. Print three keywords used for conditional statements in Python\n"
   ]
  },
  {
   "cell_type": "code",
   "execution_count": 16,
   "id": "ecb8cd16-3f62-4c96-b42d-e91b679ff80a",
   "metadata": {},
   "outputs": [
    {
     "name": "stdin",
     "output_type": "stream",
     "text": [
      "Please enter x :  7\n",
      "Please enter y :  5\n"
     ]
    },
    {
     "name": "stdout",
     "output_type": "stream",
     "text": [
      "7 is greater than 5  \n"
     ]
    }
   ],
   "source": [
    "x=int(input(\"Please enter x : \"))\n",
    "y=int(input(\"Please enter y : \"))\n",
    "\n",
    "if(x>y):\n",
    "    print(f\"{x} is greater than {y}  \")\n",
    "elif(y<x):\n",
    "    print(f\"{y} is greater than {x}  \")\n",
    "else:\n",
    "    print(f\"{x} is equal to {y}  \") \n"
   ]
  },
  {
   "cell_type": "markdown",
   "id": "fba75c8e-52f3-4d25-9d52-6e451f6a109b",
   "metadata": {},
   "source": [
    "                                          Or"
   ]
  },
  {
   "cell_type": "code",
   "execution_count": 17,
   "id": "1b05680a-4858-49ad-a981-ecc3b6aa3c82",
   "metadata": {},
   "outputs": [
    {
     "name": "stdout",
     "output_type": "stream",
     "text": [
      "Conditional Keywords:\n",
      "if, else, elif\n"
     ]
    }
   ],
   "source": [
    "print(\"Conditional Keywords:\")\n",
    "print(\"if, else, elif\")\n"
   ]
  },
  {
   "cell_type": "raw",
   "id": "974c84a2-d160-4015-b2ea-abf17d3f2c7d",
   "metadata": {},
   "source": [
    "3. Print three keywords used in loops\n"
   ]
  },
  {
   "cell_type": "code",
   "execution_count": 18,
   "id": "214888c5-bb7e-426d-843e-667a4acf92e8",
   "metadata": {},
   "outputs": [
    {
     "name": "stdout",
     "output_type": "stream",
     "text": [
      "Loop Keywords:\n",
      "for, while, break\n"
     ]
    }
   ],
   "source": [
    "print(\"Loop Keywords:\")\n",
    "print(\"for, while, break\")"
   ]
  },
  {
   "cell_type": "markdown",
   "id": "9f1636b3-67d8-485c-9f46-e88bc91a00f4",
   "metadata": {},
   "source": [
    "4. Print the Boolean keywords in Python"
   ]
  },
  {
   "cell_type": "code",
   "execution_count": 19,
   "id": "c4ef1632-91d3-47ac-9401-1714e16a0fa4",
   "metadata": {},
   "outputs": [
    {
     "name": "stdout",
     "output_type": "stream",
     "text": [
      "Boolean Keywords:\n",
      "True, False, and, or, not, is\n"
     ]
    }
   ],
   "source": [
    "print(\"Boolean Keywords:\")\n",
    "print(\"True, False, and, or, not, is\")"
   ]
  },
  {
   "cell_type": "markdown",
   "id": "e1876b44-3274-4948-a0ca-05d599d785ac",
   "metadata": {},
   "source": [
    "5. Manually sort and print five keywords alphabetically\n"
   ]
  },
  {
   "cell_type": "code",
   "execution_count": 20,
   "id": "c8838e7b-13e6-46e8-8e63-ce7638c9feb8",
   "metadata": {},
   "outputs": [
    {
     "name": "stdout",
     "output_type": "stream",
     "text": [
      "Five Alphabetically Sorted Keywords:\n",
      "['else', 'for', 'if', 'return', 'while']\n"
     ]
    }
   ],
   "source": [
    "print(\"Five Alphabetically Sorted Keywords:\")\n",
    "keywords = [\"while\", \"if\", \"else\", \"return\", \"for\"]\n",
    "keywords.sort()\n",
    "print(keywords)"
   ]
  },
  {
   "cell_type": "markdown",
   "id": "72aad7e2-04a2-4336-acd9-77149e621577",
   "metadata": {},
   "source": [
    "6. Print keywords that represent constant values\n"
   ]
  },
  {
   "cell_type": "code",
   "execution_count": 21,
   "id": "644887ef-e28d-41c7-8a1b-2896ba76dadf",
   "metadata": {},
   "outputs": [
    {
     "name": "stdout",
     "output_type": "stream",
     "text": [
      "Constant Value Keywords:\n",
      "True, False, None\n"
     ]
    }
   ],
   "source": [
    "print(\"Constant Value Keywords:\")\n",
    "print(\"True, False, None\")"
   ]
  },
  {
   "cell_type": "markdown",
   "id": "5209d957-d92c-4950-84be-e772745fbd8d",
   "metadata": {},
   "source": [
    "7. Print keywords used for flow control\n"
   ]
  },
  {
   "cell_type": "code",
   "execution_count": 23,
   "id": "0ded76ce-d0cf-4b7a-8281-419cf1bc2326",
   "metadata": {},
   "outputs": [
    {
     "name": "stdout",
     "output_type": "stream",
     "text": [
      "Flow Control Keywords:\n",
      "break, continue, pass\n"
     ]
    }
   ],
   "source": [
    "print(\"Flow Control Keywords:\")\n",
    "print(\"break, continue, pass\")"
   ]
  },
  {
   "cell_type": "markdown",
   "id": "5af565b1-1c10-4245-bbef-85661a505445",
   "metadata": {},
   "source": [
    "8. Create a print statement that uses the word 'if'\n"
   ]
  },
  {
   "cell_type": "code",
   "execution_count": 24,
   "id": "6f7ad217-a0f8-49f4-93bc-ebba46d38c1d",
   "metadata": {},
   "outputs": [
    {
     "name": "stdout",
     "output_type": "stream",
     "text": [
      "i am using  'if' is used to check conditions in Python\n"
     ]
    }
   ],
   "source": [
    "print(\"i am using  'if' is used to check conditions in Python\")"
   ]
  },
  {
   "cell_type": "markdown",
   "id": "b2f3205b-c4e0-4d13-b556-efaae36463f8",
   "metadata": {},
   "source": [
    "9. Make a table using print\n"
   ]
  },
  {
   "cell_type": "code",
   "execution_count": 25,
   "id": "359968de-a476-47bb-bbbe-cba004e0defc",
   "metadata": {},
   "outputs": [
    {
     "name": "stdout",
     "output_type": "stream",
     "text": [
      "Keyword     | Use\n",
      "------------|----------------------\n",
      "if          | Conditional check\n",
      "while       | Loop\n",
      "break       | Exit loop\n"
     ]
    }
   ],
   "source": [
    "print(\"Keyword     | Use\")\n",
    "print(\"------------|----------------------\")\n",
    "print(\"if          | Conditional check\")\n",
    "print(\"while       | Loop\")\n",
    "print(\"break       | Exit loop\")\n"
   ]
  },
  {
   "cell_type": "markdown",
   "id": "4151feac-45c6-4162-97a8-a6dac1c8a69c",
   "metadata": {},
   "source": [
    "10. Print all capital letter versions of 5 keywords"
   ]
  },
  {
   "cell_type": "code",
   "execution_count": 26,
   "id": "ba8ef056-89ab-441c-b523-e1983325d9da",
   "metadata": {},
   "outputs": [
    {
     "name": "stdout",
     "output_type": "stream",
     "text": [
      "Capital Letter Versions:\n",
      "IF, ELSE, WHILE, BREAK, PASS\n"
     ]
    }
   ],
   "source": [
    "print(\"Capital Letter Versions:\")\n",
    "print(\"IF, ELSE, WHILE, BREAK, PASS\")"
   ]
  },
  {
   "cell_type": "markdown",
   "id": "e46493fd-844c-41ef-af2b-12b6c62bda83",
   "metadata": {},
   "source": [
    "                                                Intermediate Conceptual Challenges (11–15)\n",
    "\n"
   ]
  },
  {
   "cell_type": "markdown",
   "id": "a35b25e5-75a5-416f-baa1-bfffd556aa5d",
   "metadata": {},
   "source": [
    "11. Make a list (manually) of 10 Python keywords and print it\n"
   ]
  },
  {
   "cell_type": "code",
   "execution_count": 27,
   "id": "0ce34865-53b4-4974-b481-6a6e3957ad91",
   "metadata": {},
   "outputs": [
    {
     "name": "stdout",
     "output_type": "stream",
     "text": [
      "10 Python Keywords: ['if', 'else', 'elif', 'for', 'while', 'break', 'continue', 'def', 'class', 'return']\n"
     ]
    }
   ],
   "source": [
    "keywords_list = ['if', 'else', 'elif', 'for', 'while', 'break', 'continue', 'def', 'class', 'return']\n",
    "print(\"10 Python Keywords:\", keywords_list)"
   ]
  },
  {
   "cell_type": "markdown",
   "id": "bb6ae4b0-f33f-467c-826d-c8cf87dc7a97",
   "metadata": {},
   "source": [
    "12. Print 5 keywords that cannot be used as variable names\n",
    "\n",
    "\n"
   ]
  },
  {
   "cell_type": "code",
   "execution_count": 28,
   "id": "0e6f1511-2a9d-4f8d-9596-0e96ecede1b5",
   "metadata": {},
   "outputs": [
    {
     "name": "stdout",
     "output_type": "stream",
     "text": [
      "Keywords that cannot be used as variable names:\n",
      " if, while, for, class, def\n"
     ]
    }
   ],
   "source": [
    "print(\"Keywords that cannot be used as variable names:\\n if, while, for, class, def\")"
   ]
  },
  {
   "cell_type": "markdown",
   "id": "6652d9b6-40e9-4a75-bb47-0779aad70970",
   "metadata": {},
   "source": [
    "13. Print a sentence that uses 3 keywords (in plain text)\n",
    "\n"
   ]
  },
  {
   "cell_type": "code",
   "execution_count": 29,
   "id": "72b89c6c-ffe6-47f5-9e1f-47d17157368b",
   "metadata": {},
   "outputs": [
    {
     "name": "stdout",
     "output_type": "stream",
     "text": [
      "Python uses if, else, and for to control the flow of code.\n",
      "\n"
     ]
    }
   ],
   "source": [
    "print(\"Python uses if, else, and for to control the flow of code.\\n\")"
   ]
  },
  {
   "cell_type": "markdown",
   "id": "4c7b76a6-665f-4ae9-9848-9cb1867027d2",
   "metadata": {},
   "source": [
    "4. Group and print keywords into 3 categories\n"
   ]
  },
  {
   "cell_type": "code",
   "execution_count": 33,
   "id": "ed1f6664-0b6b-4451-8c19-c0bf84b8cbd9",
   "metadata": {},
   "outputs": [
    {
     "name": "stdout",
     "output_type": "stream",
     "text": [
      "Grouped Python Keywords:\n",
      "Conditional: ['if', 'else', 'elif']\n",
      "Looping: ['for', 'while', 'break', 'continue']\n",
      "Boolean: ['True', 'False', 'None', 'and', 'or', 'not', 'is']\n"
     ]
    }
   ],
   "source": [
    "conditional_keywords = ['if', 'else', 'elif']\n",
    "looping_keywords = ['for', 'while', 'break', 'continue']\n",
    "boolean_keywords = ['True', 'False', 'None', 'and', 'or', 'not', 'is']\n",
    "\n",
    "print(\"Grouped Python Keywords:\")\n",
    "print(\"Conditional:\", conditional_keywords)\n",
    "print(\"Looping:\", looping_keywords)\n",
    "print(\"Boolean:\", boolean_keywords)\n"
   ]
  },
  {
   "cell_type": "markdown",
   "id": "2a24576d-2c2b-4913-b8b0-9a620e81c68d",
   "metadata": {},
   "source": [
    "15. Write a short explanation of why we can't use keywords as variable names\n"
   ]
  },
  {
   "cell_type": "code",
   "execution_count": 34,
   "id": "85943de4-14a0-41bb-8644-c6659243725a",
   "metadata": {},
   "outputs": [
    {
     "name": "stdout",
     "output_type": "stream",
     "text": [
      "We can't use Python keywords as variable names because they have special meanings in the language.\n"
     ]
    }
   ],
   "source": [
    "print(\"We can't use Python keywords as variable names because they have special meanings in the language.\")\n",
    "\n"
   ]
  },
  {
   "cell_type": "markdown",
   "id": "73abeef5-9a00-4523-8405-0c7208a51240",
   "metadata": {},
   "source": [
    "                                                    New Chapter"
   ]
  },
  {
   "cell_type": "markdown",
   "id": "0499fbaf-9e08-4c38-b6ac-80761cd35b83",
   "metadata": {},
   "source": [
    "1. Welcome message\n"
   ]
  },
  {
   "cell_type": "code",
   "execution_count": 35,
   "id": "1a3c0ea4-c938-4e77-8f22-2c37fb3837b7",
   "metadata": {},
   "outputs": [
    {
     "name": "stdin",
     "output_type": "stream",
     "text": [
      "Enter your name:  Khalid Anwar\n"
     ]
    },
    {
     "name": "stdout",
     "output_type": "stream",
     "text": [
      "Welcome, Khalid Anwar!\n"
     ]
    }
   ],
   "source": [
    "name = input(\"Enter your name: \")\n",
    "print(f\"Welcome, {name}!\")\n"
   ]
  },
  {
   "cell_type": "markdown",
   "id": "143c3130-5d02-4961-9954-19c926c0979b",
   "metadata": {},
   "source": [
    "2. Sum of two numbers\n"
   ]
  },
  {
   "cell_type": "code",
   "execution_count": 36,
   "id": "ab66c8d9-490c-4359-94d0-a8850a1cb4cb",
   "metadata": {},
   "outputs": [
    {
     "name": "stdin",
     "output_type": "stream",
     "text": [
      "Enter first number:  5\n",
      "Enter second number:  6\n"
     ]
    },
    {
     "name": "stdout",
     "output_type": "stream",
     "text": [
      "Sum: 11\n"
     ]
    }
   ],
   "source": [
    "num1 = int(input(\"Enter first number: \"))\n",
    "num2 = int(input(\"Enter second number: \"))\n",
    "print(\"Sum:\", num1 + num2)\n"
   ]
  },
  {
   "cell_type": "markdown",
   "id": "e14c67eb-7ece-44b9-a5b0-b8798843b7f3",
   "metadata": {},
   "source": [
    " 3. Favorite color\n"
   ]
  },
  {
   "cell_type": "code",
   "execution_count": 37,
   "id": "70c44103-230d-4dc2-8b33-638a8d40a2b7",
   "metadata": {},
   "outputs": [
    {
     "name": "stdin",
     "output_type": "stream",
     "text": [
      "What is your favorite color?  Black\n"
     ]
    },
    {
     "name": "stdout",
     "output_type": "stream",
     "text": [
      "Your favorite color is Black.\n"
     ]
    }
   ],
   "source": [
    "color = input(\"What is your favorite color? \")\n",
    "print(f\"Your favorite color is {color}.\")\n"
   ]
  },
  {
   "cell_type": "markdown",
   "id": "9ac5a9f3-4d5c-4ebe-b7f2-5501ea607eab",
   "metadata": {},
   "source": [
    "4. User's age"
   ]
  },
  {
   "cell_type": "code",
   "execution_count": 38,
   "id": "aa05f73c-9051-4c34-abfa-74ac8fc9b957",
   "metadata": {},
   "outputs": [
    {
     "name": "stdin",
     "output_type": "stream",
     "text": [
      "Enter your age:  24\n"
     ]
    },
    {
     "name": "stdout",
     "output_type": "stream",
     "text": [
      "You are 24 years old.\n"
     ]
    }
   ],
   "source": [
    "age = int(input(\"Enter your age: \"))\n",
    "print(f\"You are {age} years old.\")\n"
   ]
  },
  {
   "cell_type": "markdown",
   "id": "f08da666-e17a-4341-9fb5-32686df96c65",
   "metadata": {},
   "source": [
    " 5. City and country\n"
   ]
  },
  {
   "cell_type": "code",
   "execution_count": 39,
   "id": "500fca1a-f7a1-42e9-ba64-8915d4b57057",
   "metadata": {},
   "outputs": [
    {
     "name": "stdin",
     "output_type": "stream",
     "text": [
      "Enter your city:  Akora Khhattak\n",
      "Enter your country:  Paktistan\n"
     ]
    },
    {
     "name": "stdout",
     "output_type": "stream",
     "text": [
      "You live in Akora Khhattak, Paktistan.\n"
     ]
    }
   ],
   "source": [
    "city = input(\"Enter your city: \")\n",
    "country = input(\"Enter your country: \")\n",
    "print(f\"You live in {city}, {country}.\")\n"
   ]
  },
  {
   "cell_type": "markdown",
   "id": "2680b359-b559-4a2f-8e19-e03f83389596",
   "metadata": {},
   "source": [
    "6. Difference of two numbers\n"
   ]
  },
  {
   "cell_type": "code",
   "execution_count": 40,
   "id": "8dd0df1d-8553-4110-88dc-441f0ab79610",
   "metadata": {},
   "outputs": [
    {
     "name": "stdin",
     "output_type": "stream",
     "text": [
      "Enter first number:  80\n",
      "Enter second number:  67\n"
     ]
    },
    {
     "name": "stdout",
     "output_type": "stream",
     "text": [
      "Difference: 13\n"
     ]
    }
   ],
   "source": [
    "num3 = int(input(\"Enter first number: \"))\n",
    "num4 = int(input(\"Enter second number: \"))\n",
    "print(\"Difference:\", num3 - num4)"
   ]
  },
  {
   "cell_type": "markdown",
   "id": "021a3410-9ae8-4594-84be-82afd451a83c",
   "metadata": {},
   "source": [
    "7. Word to uppercase\n"
   ]
  },
  {
   "cell_type": "code",
   "execution_count": 42,
   "id": "3e2d6b59-272e-4f21-bea0-ef6625883c1a",
   "metadata": {},
   "outputs": [
    {
     "name": "stdin",
     "output_type": "stream",
     "text": [
      "Enter a word:  khalid\n"
     ]
    },
    {
     "name": "stdout",
     "output_type": "stream",
     "text": [
      "befor uppercase khalid after uppercase KHALID\n"
     ]
    }
   ],
   "source": [
    "word = input(\"Enter a word: \")\n",
    "print(f\"befor uppercase {word} after uppercase {word.upper()}\")"
   ]
  },
  {
   "cell_type": "markdown",
   "id": "15a294da-6851-49fd-8dbf-51cc3957e174",
   "metadata": {},
   "source": [
    "8. Character count in sentence\n"
   ]
  },
  {
   "cell_type": "code",
   "execution_count": 43,
   "id": "5d7124d1-e92c-4fc9-9638-8a6d4f002911",
   "metadata": {},
   "outputs": [
    {
     "name": "stdin",
     "output_type": "stream",
     "text": [
      "Enter a sentence:  Muhammad Khalid Anwar\n"
     ]
    },
    {
     "name": "stdout",
     "output_type": "stream",
     "text": [
      "Character count: 21\n"
     ]
    }
   ],
   "source": [
    "sentence = input(\"Enter a sentence: \")\n",
    "print(\"Character count:\", len(sentence))\n"
   ]
  },
  {
   "cell_type": "markdown",
   "id": "d1809156-131b-490c-a9e2-0f1bdec33eb9",
   "metadata": {},
   "source": [
    "9. School name message\n"
   ]
  },
  {
   "cell_type": "code",
   "execution_count": 44,
   "id": "d0a680c6-b3dc-40f6-b1b7-66d96849e4a5",
   "metadata": {},
   "outputs": [
    {
     "name": "stdin",
     "output_type": "stream",
     "text": [
      "Enter your school name:  The sudent Model School\n"
     ]
    },
    {
     "name": "stdout",
     "output_type": "stream",
     "text": [
      "I study at The sudent Model School.\n"
     ]
    }
   ],
   "source": [
    "school = input(\"Enter your school name: \")\n",
    "print(f\"I study at {school}.\")\n"
   ]
  },
  {
   "cell_type": "markdown",
   "id": "e773b934-ff65-4146-b186-244a7469c8bc",
   "metadata": {},
   "source": [
    "10. Full name from first and last name\n"
   ]
  },
  {
   "cell_type": "code",
   "execution_count": 45,
   "id": "1d366829-3b07-4e18-935a-3c371133725a",
   "metadata": {},
   "outputs": [
    {
     "name": "stdin",
     "output_type": "stream",
     "text": [
      "Enter your first name:  Muhammad Khalid\n",
      "Enter your last name:  Anwar\n"
     ]
    },
    {
     "name": "stdout",
     "output_type": "stream",
     "text": [
      "Full name: Muhammad Khalid Anwar\n"
     ]
    }
   ],
   "source": [
    "first_name = input(\"Enter your first name: \")\n",
    "last_name = input(\"Enter your last name: \")\n",
    "print(\"Full name:\", first_name + \" \" + last_name)"
   ]
  },
  {
   "cell_type": "markdown",
   "id": "be4417f6-52be-457a-b769-a0bc390079c0",
   "metadata": {},
   "source": [
    "11. Age after 5 years\n"
   ]
  },
  {
   "cell_type": "code",
   "execution_count": 46,
   "id": "022bbc2d-cc8c-4dab-bc29-168b9b9eb68a",
   "metadata": {},
   "outputs": [
    {
     "name": "stdin",
     "output_type": "stream",
     "text": [
      "Enter your age:  34\n"
     ]
    },
    {
     "name": "stdout",
     "output_type": "stream",
     "text": [
      "Your age after 5 years will be: 39\n"
     ]
    }
   ],
   "source": [
    "current_age = int(input(\"Enter your age: \"))\n",
    "print(\"Your age after 5 years will be:\", current_age + 5)"
   ]
  },
  {
   "cell_type": "markdown",
   "id": "bc5ca0a3-d557-4bbf-a441-05c1ddcbefe7",
   "metadata": {},
   "source": [
    "12. Product of two numbers\n",
    "\n"
   ]
  },
  {
   "cell_type": "code",
   "execution_count": 47,
   "id": "dc281b2b-0c32-4251-9411-6baebd09d7b5",
   "metadata": {},
   "outputs": [
    {
     "name": "stdin",
     "output_type": "stream",
     "text": [
      "Enter first number:  3\n",
      "Enter second number:  4\n"
     ]
    },
    {
     "name": "stdout",
     "output_type": "stream",
     "text": [
      "Product: 12\n"
     ]
    }
   ],
   "source": [
    "\n",
    "num5 = int(input(\"Enter first number: \"))\n",
    "num6 = int(input(\"Enter second number: \"))\n",
    "print(\"Product:\", num5 * num6)\n"
   ]
  },
  {
   "cell_type": "markdown",
   "id": "28036df7-ed27-4438-b43b-358be569008f",
   "metadata": {},
   "source": [
    "13. Name and hobby\n"
   ]
  },
  {
   "cell_type": "code",
   "execution_count": 48,
   "id": "d255264b-a9cd-4164-bcb5-bf94fb9906a7",
   "metadata": {},
   "outputs": [
    {
     "name": "stdin",
     "output_type": "stream",
     "text": [
      "Enter your name:  Khalid\n",
      "Enter your hobby:  badminton\n"
     ]
    },
    {
     "name": "stdout",
     "output_type": "stream",
     "text": [
      "Khalid likes badminton.\n"
     ]
    }
   ],
   "source": [
    "person_name = input(\"Enter your name: \")\n",
    "hobby = input(\"Enter your hobby: \")\n",
    "print(f\"{person_name} likes {hobby}.\")"
   ]
  },
  {
   "cell_type": "markdown",
   "id": "a8351d09-445d-4e3b-bf26-c228b5205380",
   "metadata": {},
   "source": [
    "\n",
    "                                                                 New Chapter"
   ]
  },
  {
   "cell_type": "markdown",
   "id": "6394e4b0-470d-45b6-930f-c04ea571f428",
   "metadata": {},
   "source": [
    " 1. Convert a string \"10\" to an integer and add 5 to it\n"
   ]
  },
  {
   "cell_type": "code",
   "execution_count": 49,
   "id": "0bc692f8-cd62-4d01-8cf1-9f3cc4d6c3d4",
   "metadata": {},
   "outputs": [
    {
     "name": "stdout",
     "output_type": "stream",
     "text": [
      "15\n"
     ]
    }
   ],
   "source": [
    "a=\"10\"\n",
    "print(int(a) + 5)  # Output: 15 but this convter is not paramanat ok \n"
   ]
  },
  {
   "cell_type": "markdown",
   "id": "f04bfdaa-f0d8-48fe-bd8f-28930741e8e8",
   "metadata": {},
   "source": [
    "2. Convert a string float to a float\n"
   ]
  },
  {
   "cell_type": "code",
   "execution_count": 50,
   "id": "9731235d-09c1-430f-bab8-eb2dd4b157ad",
   "metadata": {},
   "outputs": [
    {
     "name": "stdout",
     "output_type": "stream",
     "text": [
      "7.9\n"
     ]
    }
   ],
   "source": [
    "a=\"7.9\"\n",
    "print(float(a))\n"
   ]
  },
  {
   "cell_type": "markdown",
   "id": "213f57e7-c45d-40a6-8dd9-a3542171bfa4",
   "metadata": {},
   "source": [
    "3. Convert an integer to string and concatenate\n",
    "\n"
   ]
  },
  {
   "cell_type": "code",
   "execution_count": 52,
   "id": "fc1d8f5c-990c-4b64-b61c-b37d5af74644",
   "metadata": {},
   "outputs": [
    {
     "name": "stdout",
     "output_type": "stream",
     "text": [
      "The number is 5\n"
     ]
    }
   ],
   "source": [
    "a=5\n",
    "print(\"The number is \" + str(a))"
   ]
  },
  {
   "cell_type": "markdown",
   "id": "88b7f689-3bae-4fef-9a92-70ad8cf03c70",
   "metadata": {},
   "source": [
    " 4. Convert float 3.14 to int\n"
   ]
  },
  {
   "cell_type": "code",
   "execution_count": 53,
   "id": "b2f0f271-5be4-4276-91f2-0801e58030b4",
   "metadata": {},
   "outputs": [
    {
     "name": "stdout",
     "output_type": "stream",
     "text": [
      "3\n"
     ]
    }
   ],
   "source": [
    "print(int(3.14)) "
   ]
  },
  {
   "cell_type": "markdown",
   "id": "ced7727f-6415-41ad-a94d-fa1feb659b5c",
   "metadata": {},
   "source": [
    "5. Convert integer 1 to boolean\n",
    "\n"
   ]
  },
  {
   "cell_type": "code",
   "execution_count": 56,
   "id": "48bd50a7-93f9-457d-9eeb-ad4799286545",
   "metadata": {},
   "outputs": [
    {
     "name": "stdout",
     "output_type": "stream",
     "text": [
      "True\n"
     ]
    }
   ],
   "source": [
    "print(bool(1))  "
   ]
  },
  {
   "cell_type": "markdown",
   "id": "18b43a5a-4153-49a5-aaf5-9b8b5ff212c2",
   "metadata": {},
   "source": [
    " 6. Convert string \"False\" to boolean\n"
   ]
  },
  {
   "cell_type": "code",
   "execution_count": 57,
   "id": "ad8d9f0a-b593-46de-aa61-2729d6eefbd1",
   "metadata": {},
   "outputs": [
    {
     "name": "stdout",
     "output_type": "stream",
     "text": [
      "True\n"
     ]
    }
   ],
   "source": [
    "print(bool(\"False\"))  # Output: True (non-empty string is True)"
   ]
  },
  {
   "cell_type": "markdown",
   "id": "35af1f2e-7cc9-473e-a117-6c86820dfe4f",
   "metadata": {},
   "source": [
    "7. Take string input, convert to int, multiply by 2\n"
   ]
  },
  {
   "cell_type": "code",
   "execution_count": 58,
   "id": "5a4e42f5-2f30-4844-abc0-a29a5e8906fd",
   "metadata": {},
   "outputs": [
    {
     "name": "stdin",
     "output_type": "stream",
     "text": [
      "Enter a number as string:  34\n"
     ]
    },
    {
     "name": "stdout",
     "output_type": "stream",
     "text": [
      "Multiplied by 2: 68\n"
     ]
    }
   ],
   "source": [
    "num_str = input(\"Enter a number as string: \")\n",
    "print(\"Multiplied by 2:\", int(num_str) * 2)"
   ]
  },
  {
   "cell_type": "markdown",
   "id": "7508795b-9387-4fa5-88b0-e3dbe5f7a597",
   "metadata": {},
   "source": [
    "\n",
    " 8. Take float input, convert to int, print both\n"
   ]
  },
  {
   "cell_type": "code",
   "execution_count": 59,
   "id": "465bec38-7f83-424f-b490-810cfcec6ad5",
   "metadata": {},
   "outputs": [
    {
     "name": "stdin",
     "output_type": "stream",
     "text": [
      "Enter a floating number:  13.3\n"
     ]
    },
    {
     "name": "stdout",
     "output_type": "stream",
     "text": [
      "Original: 13.3\n",
      "Converted to int: 13\n"
     ]
    }
   ],
   "source": [
    "float_input = float(input(\"Enter a floating number: \"))\n",
    "int_converted = int(float_input)\n",
    "print(\"Original:\", float_input)\n",
    "print(\"Converted to int:\", int_converted)"
   ]
  },
  {
   "cell_type": "markdown",
   "id": "aab1242e-78a5-4eca-bf34-29c148a802fb",
   "metadata": {},
   "source": [
    "\n",
    "\n",
    "9. Convert a number to a string and check type\n"
   ]
  },
  {
   "cell_type": "code",
   "execution_count": 60,
   "id": "7b0154a5-ff09-470f-a62f-1092c59e484f",
   "metadata": {},
   "outputs": [
    {
     "name": "stdout",
     "output_type": "stream",
     "text": [
      "Converted string: 100\n",
      "Type: <class 'str'>\n"
     ]
    }
   ],
   "source": [
    "\n",
    "num = 100\n",
    "num_str = str(num)\n",
    "print(\"Converted string:\", num_str)\n",
    "print(\"Type:\", type(num_str))"
   ]
  },
  {
   "cell_type": "markdown",
   "id": "8c6ef24e-fd91-455e-bcd4-88fedd0cde27",
   "metadata": {},
   "source": [
    "\n",
    "\n",
    "\n",
    "Q 10 missing da sir \n",
    "\n"
   ]
  },
  {
   "cell_type": "markdown",
   "id": "199626c3-1fff-414f-a521-5f62dd1d14d4",
   "metadata": {},
   "source": [
    "11. Take two numbers as input and add as integers\n"
   ]
  },
  {
   "cell_type": "code",
   "execution_count": 61,
   "id": "7a35c97f-cb04-474b-b720-8e3eb1c125d4",
   "metadata": {},
   "outputs": [
    {
     "name": "stdin",
     "output_type": "stream",
     "text": [
      "Enter first number:  23\n",
      "Enter second number:  22\n"
     ]
    },
    {
     "name": "stdout",
     "output_type": "stream",
     "text": [
      "Sum as integers: 45\n"
     ]
    }
   ],
   "source": [
    "a = int(input(\"Enter first number: \"))\n",
    "b = int(input(\"Enter second number: \"))\n",
    "print(\"Sum as integers:\", a + b)"
   ]
  },
  {
   "cell_type": "markdown",
   "id": "5c6ea910-4647-411c-a860-bc71bfc8ceb1",
   "metadata": {},
   "source": [
    "12. Convert string \"25.5\" to float and int\n"
   ]
  },
  {
   "cell_type": "code",
   "execution_count": 62,
   "id": "9f552f71-26df-46b2-8e0d-723293950ff9",
   "metadata": {},
   "outputs": [
    {
     "name": "stdout",
     "output_type": "stream",
     "text": [
      "float <class 'float'> 25.5\n",
      "int <class 'int'> 25\n"
     ]
    }
   ],
   "source": [
    "\n",
    "val = \"25.5\"\n",
    "val_float= float(val)\n",
    "val_int= int(val_float)\n",
    "print(\"float\",type(val_float),val_float)\n",
    "print(\"int\",type(val_int),val_int)"
   ]
  },
  {
   "cell_type": "markdown",
   "id": "46934f44-6671-4aed-a7d9-89e38c36da1f",
   "metadata": {},
   "source": [
    " 13. Try converting \"123abc\" to int\n"
   ]
  },
  {
   "cell_type": "code",
   "execution_count": 63,
   "id": "8b966088-63f0-486b-af64-3b469bd8d376",
   "metadata": {},
   "outputs": [
    {
     "ename": "ValueError",
     "evalue": "invalid literal for int() with base 10: '123abc'",
     "output_type": "error",
     "traceback": [
      "\u001b[31m---------------------------------------------------------------------------\u001b[39m",
      "\u001b[31mValueError\u001b[39m                                Traceback (most recent call last)",
      "\u001b[36mCell\u001b[39m\u001b[36m \u001b[39m\u001b[32mIn[63]\u001b[39m\u001b[32m, line 2\u001b[39m\n\u001b[32m      1\u001b[39m a=\u001b[33m\"\u001b[39m\u001b[33m123abc\u001b[39m\u001b[33m\"\u001b[39m\n\u001b[32m----> \u001b[39m\u001b[32m2\u001b[39m \u001b[38;5;28mprint\u001b[39m(\u001b[38;5;28;43mint\u001b[39;49m\u001b[43m(\u001b[49m\u001b[43ma\u001b[49m\u001b[43m)\u001b[49m) \u001b[38;5;66;03m#Output : ValueError: invalid literal for int() with base 10: '123abc'\u001b[39;00m\n",
      "\u001b[31mValueError\u001b[39m: invalid literal for int() with base 10: '123abc'"
     ]
    }
   ],
   "source": [
    "a=\"123abc\"\n",
    "print(int(a)) #Output : ValueError: invalid literal for int() with base 10: '123abc'\n",
    "\n"
   ]
  },
  {
   "cell_type": "markdown",
   "id": "61bbedf0-5392-4670-9c8d-5623f47e852b",
   "metadata": {},
   "source": [
    "14. Check if input is numeric and convert\n"
   ]
  },
  {
   "cell_type": "code",
   "execution_count": 64,
   "id": "147283f6-c6ea-4ea2-874a-236241c6585d",
   "metadata": {},
   "outputs": [
    {
     "name": "stdin",
     "output_type": "stream",
     "text": [
      "Enter something to check if numeric:  23\n"
     ]
    },
    {
     "name": "stdout",
     "output_type": "stream",
     "text": [
      "As int: 23\n"
     ]
    }
   ],
   "source": [
    "s = input(\"Enter something to check if numeric: \")\n",
    "if s.isnumeric():\n",
    "    print(\"As int:\", int(s))\n",
    "else:\n",
    "    print(\"Not numeric.\")"
   ]
  },
  {
   "cell_type": "markdown",
   "id": "a3a9be8e-0b26-41d2-a888-46f4f63256c4",
   "metadata": {},
   "source": [
    "15. Convert float to int and then to string\n"
   ]
  },
  {
   "cell_type": "code",
   "execution_count": 65,
   "id": "4caca8b3-937e-4b1a-8021-a16891306842",
   "metadata": {},
   "outputs": [
    {
     "name": "stdout",
     "output_type": "stream",
     "text": [
      "Float: 9.99\n",
      "Int: 9\n",
      "String: 9\n"
     ]
    }
   ],
   "source": [
    "f = 9.99\n",
    "i = int(f)\n",
    "s = str(i)\n",
    "print(\"Float:\", f)\n",
    "print(\"Int:\", i)\n",
    "print(\"String:\",s)"
   ]
  },
  {
   "cell_type": "markdown",
   "id": "7077a7df-15b7-4180-82c3-bf5df4cd942d",
   "metadata": {},
   "source": [
    "\n",
    "\n",
    "\n",
    "                                                                    New Chapter\n"
   ]
  },
  {
   "cell_type": "markdown",
   "id": "85a00415-827f-46e0-a899-76233043ab52",
   "metadata": {},
   "source": [
    "1. Print a string literal\n"
   ]
  },
  {
   "cell_type": "code",
   "execution_count": 66,
   "id": "00cbb2f4-8409-47a0-8edd-08215a023ead",
   "metadata": {},
   "outputs": [
    {
     "name": "stdout",
     "output_type": "stream",
     "text": [
      "Learning Python is fun!\n"
     ]
    }
   ],
   "source": [
    "print(\"Learning Python is fun!\")"
   ]
  },
  {
   "cell_type": "markdown",
   "id": "3835a8ff-f8ff-44b9-a1cd-282bba981fdb",
   "metadata": {},
   "source": [
    "2. Create and print an integer and a float literal\n"
   ]
  },
  {
   "cell_type": "code",
   "execution_count": 67,
   "id": "9c589c3e-f8c4-4cb2-8b4f-fa276f45b211",
   "metadata": {},
   "outputs": [
    {
     "name": "stdout",
     "output_type": "stream",
     "text": [
      "10 3.14\n"
     ]
    }
   ],
   "source": [
    "int_literal = 10\n",
    "float_literal = 3.14\n",
    "print(int_literal, float_literal)\n"
   ]
  },
  {
   "cell_type": "markdown",
   "id": "d331199f-f650-4a1c-a5f2-226c9013a2c1",
   "metadata": {},
   "source": [
    "3. String literal using single and double quotes\n"
   ]
  },
  {
   "cell_type": "code",
   "execution_count": 68,
   "id": "8f960cfb-23ba-4820-9926-862c1deedb6a",
   "metadata": {},
   "outputs": [
    {
     "name": "stdout",
     "output_type": "stream",
     "text": [
      "Hello\n",
      "World\n"
     ]
    }
   ],
   "source": [
    "single_quote = 'Hello'\n",
    "double_quote = \"World\"\n",
    "print(single_quote)\n",
    "print(double_quote)"
   ]
  },
  {
   "cell_type": "markdown",
   "id": "6f8189a3-5eb2-4c8f-a600-0c3bcb629130",
   "metadata": {},
   "source": [
    "4. Boolean literal\n"
   ]
  },
  {
   "cell_type": "code",
   "execution_count": 69,
   "id": "15dc677c-0eab-4ba0-ade4-530592d848b5",
   "metadata": {},
   "outputs": [
    {
     "name": "stdout",
     "output_type": "stream",
     "text": [
      "True , False\n"
     ]
    }
   ],
   "source": [
    "print(True,\",\", False)\n"
   ]
  },
  {
   "cell_type": "markdown",
   "id": "6a810812-7d91-4d00-b86a-817c56fc252f",
   "metadata": {},
   "source": [
    "5. Create a variable with value None\n"
   ]
  },
  {
   "cell_type": "code",
   "execution_count": 71,
   "id": "db52804d-676d-45d1-94b3-0e27ce5a67c0",
   "metadata": {},
   "outputs": [
    {
     "name": "stdout",
     "output_type": "stream",
     "text": [
      "None\n"
     ]
    }
   ],
   "source": [
    "x = None\n",
    "print(x) "
   ]
  },
  {
   "cell_type": "markdown",
   "id": "7d6fbb86-9b3c-42e5-97e6-41e818fcc8dd",
   "metadata": {},
   "source": [
    "6. Print the type of each literal\n"
   ]
  },
  {
   "cell_type": "code",
   "execution_count": 72,
   "id": "702a6f9b-f55a-4033-8210-c55b3b2ba7ea",
   "metadata": {},
   "outputs": [
    {
     "name": "stdout",
     "output_type": "stream",
     "text": [
      "<class 'str'>\n",
      "<class 'int'>\n",
      "<class 'float'>\n",
      "<class 'bool'>\n",
      "<class 'NoneType'>\n"
     ]
    }
   ],
   "source": [
    "print(type(\"Hello\"))  # str\n",
    "print(type(10))       # int\n",
    "print(type(3.5))      # float\n",
    "print(type(True))     # bool\n",
    "print(type(None))     # NoneType"
   ]
  },
  {
   "cell_type": "markdown",
   "id": "4257d528-f394-4ef0-abad-819460b72cb2",
   "metadata": {},
   "source": [
    "7. String literal for a sentence\n"
   ]
  },
  {
   "cell_type": "code",
   "execution_count": 73,
   "id": "646622e0-c7fe-47d1-9300-64d0f360966d",
   "metadata": {},
   "outputs": [
    {
     "name": "stdout",
     "output_type": "stream",
     "text": [
      "Python’s simplicity is powerful.\n"
     ]
    }
   ],
   "source": [
    "print(\"Python’s simplicity is powerful.\")\n",
    "\n"
   ]
  },
  {
   "cell_type": "markdown",
   "id": "d21fd1b5-2251-4192-bc4b-1742f8ca1426",
   "metadata": {},
   "source": [
    " 8. Concatenate two strings\n"
   ]
  },
  {
   "cell_type": "code",
   "execution_count": 74,
   "id": "b17e2b08-194b-44f6-bd48-9b5dbfef11ce",
   "metadata": {},
   "outputs": [
    {
     "name": "stdout",
     "output_type": "stream",
     "text": [
      "Python is awesome!\n"
     ]
    }
   ],
   "source": [
    "str1 = \"Python is\"\n",
    "str2 = \" awesome!\"\n",
    "print(str1 + str2)"
   ]
  },
  {
   "cell_type": "markdown",
   "id": "f50738f3-e78e-4b6f-bb61-8b5efd229eb5",
   "metadata": {},
   "source": [
    "9. Mixed list: number, string, boolean\n"
   ]
  },
  {
   "cell_type": "code",
   "execution_count": 75,
   "id": "d1a4c8d0-5dfe-43cb-974d-2e0a0f433fbf",
   "metadata": {},
   "outputs": [
    {
     "name": "stdout",
     "output_type": "stream",
     "text": [
      "[42, 'Hello', True, 34.5]\n"
     ]
    }
   ],
   "source": [
    "mixed_list = [42, \"Hello\", True, 34.5]\n",
    "print(mixed_list)"
   ]
  },
  {
   "cell_type": "markdown",
   "id": "57a0991c-a55f-4864-ae83-a95f3c7d5891",
   "metadata": {},
   "source": [
    "10. Multi-line string using triple quotes\n"
   ]
  },
  {
   "cell_type": "code",
   "execution_count": 76,
   "id": "9a29c698-0861-4b42-ae64-fcd496183bf5",
   "metadata": {},
   "outputs": [
    {
     "name": "stdout",
     "output_type": "stream",
     "text": [
      "This is\n",
      "a multi-line\n",
      "string literal.\n"
     ]
    }
   ],
   "source": [
    "print(\"\"\"This is\n",
    "a multi-line\n",
    "string literal.\"\"\")\n"
   ]
  },
  {
   "cell_type": "markdown",
   "id": "aafc27c1-3ba2-45ea-8c71-af172746f53f",
   "metadata": {},
   "source": [
    "11. Output of comparison with None\n"
   ]
  },
  {
   "cell_type": "code",
   "execution_count": 77,
   "id": "3b113e1d-3be4-433d-af41-04b5e6f9811a",
   "metadata": {},
   "outputs": [
    {
     "name": "stdout",
     "output_type": "stream",
     "text": [
      "False\n",
      "False\n"
     ]
    }
   ],
   "source": [
    "print(None == 0)      # False\n",
    "print(None == False)  # False\n"
   ]
  },
  {
   "cell_type": "code",
   "execution_count": null,
   "id": "ec30be41-1fba-430c-a6df-f3c7f26e0f53",
   "metadata": {},
   "outputs": [],
   "source": []
  }
 ],
 "metadata": {
  "kernelspec": {
   "display_name": "Python 3 (ipykernel)",
   "language": "python",
   "name": "python3"
  },
  "language_info": {
   "codemirror_mode": {
    "name": "ipython",
    "version": 3
   },
   "file_extension": ".py",
   "mimetype": "text/x-python",
   "name": "python",
   "nbconvert_exporter": "python",
   "pygments_lexer": "ipython3",
   "version": "3.12.7"
  }
 },
 "nbformat": 4,
 "nbformat_minor": 5
}
